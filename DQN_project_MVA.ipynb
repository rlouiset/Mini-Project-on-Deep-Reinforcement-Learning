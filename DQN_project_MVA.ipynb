{
  "nbformat": 4,
  "nbformat_minor": 0,
  "metadata": {
    "kernelspec": {
      "display_name": "Python 3",
      "language": "python",
      "name": "python3"
    },
    "language_info": {
      "codemirror_mode": {
        "name": "ipython",
        "version": 3
      },
      "file_extension": ".py",
      "mimetype": "text/x-python",
      "name": "python",
      "nbconvert_exporter": "python",
      "pygments_lexer": "ipython3",
      "version": "3.5.7"
    },
    "colab": {
      "name": "DQN_project_MVA.ipynb",
      "provenance": [],
      "collapsed_sections": []
    }
  },
  "cells": [
    {
      "cell_type": "markdown",
      "metadata": {
        "id": "hftShNJjLpji",
        "colab_type": "text"
      },
      "source": [
        "**You may need to install [OpenCV](https://pypi.python.org/pypi/opencv-python) and [scikit-video](http://www.scikit-video.org/stable/).**"
      ]
    },
    {
      "cell_type": "code",
      "metadata": {
        "id": "xfcdQDDuLpjp",
        "colab_type": "code",
        "outputId": "cbb46d3c-0438-49f5-aceb-28b5901d2dce",
        "colab": {
          "base_uri": "https://localhost:8080/",
          "height": 185
        }
      },
      "source": [
        "!pip install scikit-video\n",
        "\n",
        "import numpy as np\n",
        "import io\n",
        "import base64\n",
        "from IPython.display import HTML\n",
        "import skvideo.io\n",
        "import cv2\n",
        "import json\n",
        "\n",
        "import torch\n",
        "import torch.nn as nn\n",
        "import torch.nn.functional as F \n",
        "from torch import optim"
      ],
      "execution_count": 1,
      "outputs": [
        {
          "output_type": "stream",
          "text": [
            "Collecting scikit-video\n",
            "\u001b[?25l  Downloading https://files.pythonhosted.org/packages/b1/a6/c69cad508139a342810ae46e946ebb3256aa6e42f690d901bb68f50582e3/scikit_video-1.1.11-py2.py3-none-any.whl (2.3MB)\n",
            "\u001b[K     |████████████████████████████████| 2.3MB 2.8MB/s \n",
            "\u001b[?25hRequirement already satisfied: scipy in /usr/local/lib/python3.6/dist-packages (from scikit-video) (1.4.1)\n",
            "Requirement already satisfied: numpy in /usr/local/lib/python3.6/dist-packages (from scikit-video) (1.17.5)\n",
            "Requirement already satisfied: pillow in /usr/local/lib/python3.6/dist-packages (from scikit-video) (6.2.2)\n",
            "Installing collected packages: scikit-video\n",
            "Successfully installed scikit-video-1.1.11\n"
          ],
          "name": "stdout"
        }
      ]
    },
    {
      "cell_type": "markdown",
      "metadata": {
        "id": "la-Jn0i8Lpj5",
        "colab_type": "text"
      },
      "source": [
        "# MiniProject on Deep Reinforcement Learning"
      ]
    },
    {
      "cell_type": "markdown",
      "metadata": {
        "id": "AXd97e1gLpkU",
        "colab_type": "text"
      },
      "source": [
        "__Notations__: $E_p$ is the expectation under probability $p$. Please justify each of your answer and widely comment your code."
      ]
    },
    {
      "cell_type": "markdown",
      "metadata": {
        "id": "XInCmO7ULpkZ",
        "colab_type": "text"
      },
      "source": [
        "# Context"
      ]
    },
    {
      "cell_type": "markdown",
      "metadata": {
        "id": "z18g97nzLpke",
        "colab_type": "text"
      },
      "source": [
        "In a reinforcement learning algorithm, we modelize each step $t$ as an action $a_t$ obtained from a state $s_t$, i.e. $\\{(a_{t},s_{t})_{t\\leq T}\\}$ having the Markov property. We consider a discount factor $\\gamma \\in [0,1]$ that ensures convergence. The goal is to find among all the policies $\\pi$, one that maximizes the expected reward:\n",
        "\n",
        "\\begin{equation*}\n",
        "R(\\pi)=\\sum_{t\\leq T}E_{p^{\\pi}}[\\gamma^t r(s_{t},a_{t})] \\> ,\n",
        "\\end{equation*}\n",
        "\n",
        "where: \n",
        "\\begin{equation*}p^{\\pi}(a_{0},a_{1},s_{1},...,a_{T},s_{T})=p(a_{0})\\prod_{t=1}^{T}\\pi(a_{t}|s_{t})p(s_{t+1}|s_{t},a_{t}) \\> .\n",
        "\\end{equation*}\n",
        "\n",
        "We note the $Q$-function:\n",
        "\n",
        "\\begin{equation*}Q^\\pi(s,a)=E_{p^{\\pi}}[\\sum_{t\\leq T}\\gamma^{t}r(s_{t},a_{t})|s_{0}=s,a_{0}=a] \\> .\n",
        "\\end{equation*}\n",
        "\n",
        "Thus, the optimal Q function is:\n",
        "\\begin{equation*}\n",
        "Q^*(s,a)=\\max_{\\pi}Q^\\pi(s,a) \\> .\n",
        "\\end{equation*}\n",
        "\n",
        "In this project, we will apply the deep reinforcement learning techniques to a simple game: an agent will have to learn from scratch a policy that will permit it maximizing a reward."
      ]
    },
    {
      "cell_type": "markdown",
      "metadata": {
        "id": "6krTiq6VLpkl",
        "colab_type": "text"
      },
      "source": [
        "## The environment, the agent and the game"
      ]
    },
    {
      "cell_type": "markdown",
      "metadata": {
        "id": "zPzH7O6CLpko",
        "colab_type": "text"
      },
      "source": [
        "### The environment"
      ]
    },
    {
      "cell_type": "markdown",
      "metadata": {
        "id": "oIYWtHTeLpkq",
        "colab_type": "text"
      },
      "source": [
        "```Environment``` is an abstract class that represents the states, rewards, and actions to obtain the new state."
      ]
    },
    {
      "cell_type": "code",
      "metadata": {
        "id": "Z19dhDNYLpkt",
        "colab_type": "code",
        "colab": {}
      },
      "source": [
        "class Environment(object):\n",
        "    def __init__(self):\n",
        "        pass\n",
        "\n",
        "    def act(self, act):\n",
        "        \"\"\"\n",
        "        One can act on the environment and obtain its reaction:\n",
        "        - the new state\n",
        "        - the reward of the new state\n",
        "        - should we continue the game?\n",
        "\n",
        "        :return: state, reward, game_over\n",
        "        \"\"\"\n",
        "        pass\n",
        "\n",
        "\n",
        "    def reset(self):\n",
        "        \"\"\"\n",
        "        Reinitialize the environment to a random state and returns\n",
        "        the original state\n",
        "\n",
        "        :return: state\n",
        "        \"\"\"\n",
        "        pass\n",
        "    \n",
        "    def draw(self):\n",
        "        \"\"\"\n",
        "        Visualize in the console or graphically the current state\n",
        "        \"\"\"\n",
        "        pass"
      ],
      "execution_count": 0,
      "outputs": []
    },
    {
      "cell_type": "markdown",
      "metadata": {
        "id": "pjxBPW4tLpk3",
        "colab_type": "text"
      },
      "source": [
        "The method ```act``` allows to act on the environment at a given state $s_t$ (stored internally), via action $a_t$. The method will return the new state $s_{t+1}$, the reward $r(s_{t},a_{t})$ and determines if $t\\leq T$ (*game_over*).\n",
        "\n",
        "The method ```reset``` simply reinitializes the environment to a random state $s_0$.\n",
        "\n",
        "The method ```draw``` displays the current state $s_t$ (this is useful to check the behavior of the Agent).\n",
        "\n",
        "We modelize $s_t$ as a tensor, while $a_t$ is an integer."
      ]
    },
    {
      "cell_type": "markdown",
      "metadata": {
        "id": "QjNuBYxzLpk6",
        "colab_type": "text"
      },
      "source": [
        "### The Agent"
      ]
    },
    {
      "cell_type": "markdown",
      "metadata": {
        "id": "H2zjBM98Lpk_",
        "colab_type": "text"
      },
      "source": [
        "The goal of the ```Agent``` is to interact with the ```Environment``` by proposing actions $a_t$ obtained from a given state $s_t$ to attempt to maximize its __reward__ $r(s_t,a_t)$. We propose the following abstract class:"
      ]
    },
    {
      "cell_type": "code",
      "metadata": {
        "id": "5GKSMAjNLplC",
        "colab_type": "code",
        "colab": {}
      },
      "source": [
        "class Agent(object):\n",
        "    def __init__(self, epsilon=0.1, n_action=4):\n",
        "        self.epsilon = epsilon\n",
        "        self.n_action = n_action\n",
        "    \n",
        "    def set_epsilon(self,e):\n",
        "        self.epsilon = e\n",
        "\n",
        "    def act(self,s,train=True):\n",
        "        \"\"\" This function should return the next action to do:\n",
        "        an integer between 0 and 4 (not included) with a random exploration of epsilon\"\"\"\n",
        "        if train:\n",
        "            if np.random.rand() <= self.epsilon:\n",
        "                a = np.random.randint(0, self.n_action, size=1)[0]\n",
        "            else:\n",
        "                a = self.learned_act(s)\n",
        "        else: # in some cases, this can improve the performance.. remove it if poor performances\n",
        "            a = self.learned_act(s)\n",
        "\n",
        "        return a\n",
        "\n",
        "    def learned_act(self,s):\n",
        "        \"\"\" Act via the policy of the agent, from a given state s\n",
        "        it proposes an action a\"\"\"\n",
        "        pass\n",
        "\n",
        "    def reinforce(self, s, n_s, a, r, game_over_):\n",
        "        \"\"\" This function is the core of the learning algorithm. \n",
        "        It takes as an input the current state s_, the next state n_s_\n",
        "        the action a_ used to move from s_ to n_s_ and the reward r_.\n",
        "        \n",
        "        Its goal is to learn a policy.\n",
        "        \"\"\"\n",
        "        pass\n",
        "\n",
        "    def save(self):\n",
        "        \"\"\" This function returns basic stats if applicable: the\n",
        "        loss and/or the model\"\"\"\n",
        "        pass\n",
        "\n",
        "    def load(self):\n",
        "        \"\"\" This function allows to restore a model\"\"\"\n",
        "        pass"
      ],
      "execution_count": 0,
      "outputs": []
    },
    {
      "cell_type": "markdown",
      "metadata": {
        "id": "ZzB6wsX6Lpld",
        "colab_type": "text"
      },
      "source": [
        "***\n",
        "__Question 1__:\n",
        "Explain the function act. Why is ```epsilon``` essential?"
      ]
    },
    {
      "cell_type": "markdown",
      "metadata": {
        "id": "ZbD3QoKYLplj",
        "colab_type": "text"
      },
      "source": [
        "The function act enables our agent to take an action according to what state we are in. The epsilon is essential because it enables the algorithm to explore its environment by sometimes choosing a random action instead of a leared action.\n",
        "\n",
        "Indeed, in Reinforcement Learning algorithms we have a trade-off between exploitation (choose a learned action to maximize its reward) and exploration (choose a random action to explore another area of the its environment).\n",
        "\n",
        "The epsilon enables to set this trade-off by taking a random action with an epsilon probability at each state."
      ]
    },
    {
      "cell_type": "markdown",
      "metadata": {
        "id": "GIxHaU4ZLplp",
        "colab_type": "text"
      },
      "source": [
        "***\n",
        "### The Game"
      ]
    },
    {
      "cell_type": "markdown",
      "metadata": {
        "id": "XKuX2eR2Lpls",
        "colab_type": "text"
      },
      "source": [
        "The ```Agent``` and the ```Environment``` work in an interlaced way as in the following (take some time to understand this code as it is the core of the project)\n",
        "\n",
        "```python\n",
        "\n",
        "epoch = 300\n",
        "env = Environment()\n",
        "agent = Agent()\n",
        "\n",
        "\n",
        "# Number of won games\n",
        "score = 0\n",
        "loss = 0\n",
        "\n",
        "\n",
        "for e in range(epoch):\n",
        "    # At each epoch, we restart to a fresh game and get the initial state\n",
        "    state = env.reset()\n",
        "    # This assumes that the games will end\n",
        "    game_over = False\n",
        "\n",
        "    win = 0\n",
        "    lose = 0\n",
        "    \n",
        "    while not game_over:\n",
        "        # The agent performs an action\n",
        "        action = agent.act(state)\n",
        "\n",
        "        # Apply an action to the environment, get the next state, the reward\n",
        "        # and if the games end\n",
        "        prev_state = state\n",
        "        state, reward, game_over = env.act(action)\n",
        "\n",
        "        # Update the counters\n",
        "        if reward > 0:\n",
        "            win = win + reward\n",
        "        if reward < 0:\n",
        "            lose = lose -reward\n",
        "\n",
        "        # Apply the reinforcement strategy\n",
        "        loss = agent.reinforce(prev_state, state,  action, reward, game_over)\n",
        "\n",
        "    # Save as a mp4\n",
        "    if e % 10 == 0:\n",
        "        env.draw(e)\n",
        "\n",
        "    # Update stats\n",
        "    score += win-lose\n",
        "\n",
        "    print(\"Epoch {:03d}/{:03d} | Loss {:.4f} | Win/lose count {}/{} ({})\"\n",
        "          .format(e, epoch, loss, win, lose, win-lose))\n",
        "    agent.save()\n",
        "```"
      ]
    },
    {
      "cell_type": "markdown",
      "metadata": {
        "id": "KGP0-HcdLplv",
        "colab_type": "text"
      },
      "source": [
        "# The game, *eat cheese*"
      ]
    },
    {
      "cell_type": "markdown",
      "metadata": {
        "id": "TgtWuarpLplx",
        "colab_type": "text"
      },
      "source": [
        "A rat runs on an island and tries to eat as much as possible. The island is subdivided into $N\\times N$ cells, in which there are cheese (+0.5) and poisonous cells (-1). The rat has a visibility of 2 cells (thus it can see $5^2$ cells). The rat is given a time $T$ to accumulate as much food as possible. It can perform 4 actions: going up, down, left, right. \n",
        "\n",
        "The goal is to code an agent to solve this task that will learn by trial and error. We propose the following environment:"
      ]
    },
    {
      "cell_type": "code",
      "metadata": {
        "id": "ezjjxWR6Lpl3",
        "colab_type": "code",
        "colab": {}
      },
      "source": [
        "class Environment(object):\n",
        "    def __init__(self, grid_size=10, max_time=500, temperature=0.1):\n",
        "        grid_size = grid_size+4\n",
        "        self.grid_size = grid_size\n",
        "        self.max_time = max_time\n",
        "        self.temperature = temperature\n",
        "\n",
        "        #board on which one plays\n",
        "        self.board = np.zeros((grid_size,grid_size))\n",
        "        self.position = np.zeros((grid_size,grid_size))\n",
        "\n",
        "        # coordinate of the cat\n",
        "        self.x = 0\n",
        "        self.y = 1\n",
        "\n",
        "        # self time\n",
        "        self.t = 0\n",
        "\n",
        "        self.scale=16\n",
        "\n",
        "        self.to_draw = np.zeros((max_time+2, grid_size*self.scale, grid_size*self.scale, 3))\n",
        "\n",
        "\n",
        "    def draw(self,e):\n",
        "        skvideo.io.vwrite(str(e) + '.mp4', self.to_draw)\n",
        "\n",
        "    def get_frame(self,t):\n",
        "        b = np.zeros((self.grid_size,self.grid_size,3))+128\n",
        "        b[self.board>0,0] = 256\n",
        "        b[self.board < 0, 2] = 256\n",
        "        b[self.x,self.y,:]=256\n",
        "        b[-2:,:,:]=0\n",
        "        b[:,-2:,:]=0\n",
        "        b[:2,:,:]=0\n",
        "        b[:,:2,:]=0\n",
        "        \n",
        "        b =  cv2.resize(b, None, fx=self.scale, fy=self.scale, interpolation=cv2.INTER_NEAREST)\n",
        "\n",
        "        self.to_draw[t,:,:,:]=b\n",
        "\n",
        "\n",
        "    def act(self, action):\n",
        "        \"\"\"This function returns the new state, reward and decides if the\n",
        "        game ends.\"\"\"\n",
        "\n",
        "        self.get_frame(int(self.t))\n",
        "\n",
        "        self.position = np.zeros((self.grid_size, self.grid_size))\n",
        "\n",
        "        self.position[0:2,:]= -1\n",
        "        self.position[:,0:2] = -1\n",
        "        self.position[-2:, :] = -1\n",
        "        self.position[-2:, :] = -1\n",
        "\n",
        "        self.position[self.x, self.y] = 1\n",
        "        if action == 0:\n",
        "            if self.x == self.grid_size-3:\n",
        "                self.x = self.x-1\n",
        "            else:\n",
        "                self.x = self.x + 1\n",
        "        elif action == 1:\n",
        "            if self.x == 2:\n",
        "                self.x = self.x+1\n",
        "            else:\n",
        "                self.x = self.x-1\n",
        "        elif action == 2:\n",
        "            if self.y == self.grid_size - 3:\n",
        "                self.y = self.y - 1\n",
        "            else:\n",
        "                self.y = self.y + 1\n",
        "        elif action == 3:\n",
        "            if self.y == 2:\n",
        "                self.y = self.y + 1\n",
        "            else:\n",
        "                self.y = self.y - 1\n",
        "        else:\n",
        "            RuntimeError('Error: action not recognized')\n",
        "\n",
        "        self.t = self.t + 1\n",
        "        reward = self.board[self.x, self.y]\n",
        "        self.board[self.x, self.y] = 0\n",
        "        game_over = self.t > self.max_time\n",
        "        state = np.concatenate((self.board.reshape(self.grid_size, self.grid_size,1),\n",
        "                        self.position.reshape(self.grid_size, self.grid_size,1)),axis=2)\n",
        "        state = state[self.x-2:self.x+3,self.y-2:self.y+3,:]\n",
        "\n",
        "        return state, reward, game_over\n",
        "\n",
        "    def reset(self):\n",
        "        \"\"\"This function resets the game and returns the initial state\"\"\"\n",
        "\n",
        "        self.x = np.random.randint(3, self.grid_size-3, size=1)[0]\n",
        "        self.y = np.random.randint(3, self.grid_size-3, size=1)[0]\n",
        "\n",
        "\n",
        "        bonus = 0.5*np.random.binomial(1,self.temperature,size=self.grid_size**2)\n",
        "        bonus = bonus.reshape(self.grid_size,self.grid_size)\n",
        "\n",
        "        malus = -1.0*np.random.binomial(1,self.temperature,size=self.grid_size**2)\n",
        "        malus = malus.reshape(self.grid_size, self.grid_size)\n",
        "\n",
        "        self.to_draw = np.zeros((self.max_time+2, self.grid_size*self.scale, self.grid_size*self.scale, 3))\n",
        "\n",
        "\n",
        "        malus[bonus>0]=0\n",
        "\n",
        "        self.board = bonus + malus\n",
        "\n",
        "        self.position = np.zeros((self.grid_size, self.grid_size))\n",
        "        self.position[0:2,:]= -1\n",
        "        self.position[:,0:2] = -1\n",
        "        self.position[-2:, :] = -1\n",
        "        self.position[-2:, :] = -1\n",
        "        self.board[self.x,self.y] = 0\n",
        "        self.t = 0\n",
        "\n",
        "        state = np.concatenate((\n",
        "                               self.board.reshape(self.grid_size, self.grid_size,1),\n",
        "                        self.position.reshape(self.grid_size, self.grid_size,1)),axis=2)\n",
        "\n",
        "        state = state[self.x - 2:self.x + 3, self.y - 2:self.y + 3, :]\n",
        "        return state"
      ],
      "execution_count": 0,
      "outputs": []
    },
    {
      "cell_type": "markdown",
      "metadata": {
        "id": "UZjC9Q1pLpmD",
        "colab_type": "text"
      },
      "source": [
        "The following elements are important because they correspond to the hyper parameters for this project:"
      ]
    },
    {
      "cell_type": "code",
      "metadata": {
        "id": "8YNhLPK2LpmK",
        "colab_type": "code",
        "colab": {}
      },
      "source": [
        "# parameters\n",
        "size = 13\n",
        "T=200\n",
        "temperature=0.3\n",
        "epochs_train=15 # set small when debugging\n",
        "epochs_test=10 # set small when debugging\n",
        "\n",
        "# display videos\n",
        "def display_videos(name):\n",
        "    video = io.open(name, 'r+b').read()\n",
        "    encoded = base64.b64encode(video)\n",
        "    return '''<video alt=\"test\" controls>\n",
        "                <source src=\"data:video/mp4;base64,{0}\" type=\"video/mp4\" />\n",
        "             </video>'''.format(encoded.decode('ascii'))"
      ],
      "execution_count": 0,
      "outputs": []
    },
    {
      "cell_type": "markdown",
      "metadata": {
        "id": "r_6KK1L_LpmZ",
        "colab_type": "text"
      },
      "source": [
        "__Question 2__ Explain the use of the arrays ```position``` and ```board```."
      ]
    },
    {
      "cell_type": "markdown",
      "metadata": {
        "id": "75XE-SzULpmb",
        "colab_type": "text"
      },
      "source": [
        "The arrays position seems to entirely code the position of the rat but also the feasibility of its action. Indeed, when the rat is nearby a wall and it makes an action that decides to go toward the wall the arrays position indicates that it is not possible and the rat will bounce on it.\n",
        "\n",
        "The array board encode the rewards the rat can get, whenever is getting to a new state having cheese or poison, he wil get a reward of 1 or -1, and this reward will vanish (become equal to 0 as the rat consumed it). This is the role of the board array."
      ]
    },
    {
      "cell_type": "markdown",
      "metadata": {
        "id": "rXjxO-I1Lpmd",
        "colab_type": "text"
      },
      "source": [
        "## Random Agent"
      ]
    },
    {
      "cell_type": "markdown",
      "metadata": {
        "id": "LQmAJwT8Lpmf",
        "colab_type": "text"
      },
      "source": [
        "***\n",
        "__Question 3__ Implement a random Agent (only ```learned_act``` needs to be implemented):"
      ]
    },
    {
      "cell_type": "code",
      "metadata": {
        "id": "iaX7C7SBLpmh",
        "colab_type": "code",
        "colab": {}
      },
      "source": [
        "class RandomAgent(Agent):\n",
        "    def __init__(self):\n",
        "        super(RandomAgent, self).__init__()\n",
        "        pass\n",
        "\n",
        "    def learned_act(self, s):\n",
        "        return np.random.randint(self.n_action)"
      ],
      "execution_count": 0,
      "outputs": []
    },
    {
      "cell_type": "markdown",
      "metadata": {
        "id": "--ujDyLVLpms",
        "colab_type": "text"
      },
      "source": [
        "***\n",
        "***\n",
        "__Question 4__ Visualize the game moves. You need to fill in the following function for the evaluation:"
      ]
    },
    {
      "cell_type": "code",
      "metadata": {
        "id": "Ise5z0PGLpmv",
        "colab_type": "code",
        "colab": {}
      },
      "source": [
        "def test(agent,env,epochs,prefix=''):\n",
        "    # Number of won games\n",
        "    score = 0\n",
        "        \n",
        "    for e in range(epochs):\n",
        "        \n",
        "        ##### FILL IN HERE\n",
        "        # At each epoch, we restart to a fresh game and get the initial state\n",
        "        state = env.reset()\n",
        "        # This assumes that the games will end\n",
        "        game_over = False\n",
        "    \n",
        "        win = 0\n",
        "        lose = 0\n",
        "    \n",
        "        while not game_over:\n",
        "            # The agent performs an action\n",
        "            action = agent.act(state)\n",
        "    \n",
        "            # Apply an action to the environment, get the next state, the reward\n",
        "            # and if the games end\n",
        "            prev_state = state\n",
        "            state, reward, game_over = env.act(action)\n",
        "    \n",
        "            # Update the counters\n",
        "            if reward > 0:\n",
        "                win = win + reward\n",
        "            if reward < 0:\n",
        "                lose = lose -reward\n",
        "        \n",
        "        # Save as a mp4\n",
        "        env.draw(prefix+str(e))\n",
        "        #print('saved as '+prefix+str(e)+'.mp4' )\n",
        "\n",
        "        # Update stats\n",
        "        score = score + win-lose\n",
        "\n",
        "        print(\"Win/lose count {}/{}. Average score ({})\"\n",
        "              .format(win, lose, score/(1+e)))\n",
        "    print('Final score: '+str(score/epochs))"
      ],
      "execution_count": 0,
      "outputs": []
    },
    {
      "cell_type": "code",
      "metadata": {
        "id": "Z-f68JKWLpm-",
        "colab_type": "code",
        "outputId": "39692d77-ae9f-4313-8405-7818d8059976",
        "colab": {
          "base_uri": "https://localhost:8080/",
          "height": 497
        }
      },
      "source": [
        "# Initialize the game\n",
        "env = Environment(grid_size=size, max_time=T,temperature=temperature)\n",
        "\n",
        "# Initialize the agent!\n",
        "agent = RandomAgent()\n",
        "\n",
        "test(agent,env,epochs_test,prefix='random')\n",
        "HTML(display_videos('random0.mp4'))"
      ],
      "execution_count": 8,
      "outputs": [
        {
          "output_type": "stream",
          "text": [
            "Win/lose count 6.5/10.0. Average score (-3.5)\n",
            "Win/lose count 12.5/12.0. Average score (-1.5)\n",
            "Win/lose count 11.5/13.0. Average score (-1.5)\n",
            "Win/lose count 12.0/21.0. Average score (-3.375)\n",
            "Win/lose count 8.0/8.0. Average score (-2.7)\n",
            "Win/lose count 12.0/10.0. Average score (-1.9166666666666667)\n",
            "Win/lose count 9.0/12.0. Average score (-2.0714285714285716)\n",
            "Win/lose count 9.0/10.0. Average score (-1.9375)\n",
            "Win/lose count 11.5/8.0. Average score (-1.3333333333333333)\n",
            "Win/lose count 12.5/14.0. Average score (-1.35)\n",
            "Final score: -1.35\n"
          ],
          "name": "stdout"
        },
        {
          "output_type": "execute_result",
          "data": {
            "text/html": [
              "<video alt=\"test\" controls>\n",
              "                <source src=\"data:video/mp4;base64,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\" type=\"video/mp4\" />\n",
              "             </video>"
            ],
            "text/plain": [
              "<IPython.core.display.HTML object>"
            ]
          },
          "metadata": {
            "tags": []
          },
          "execution_count": 8
        }
      ]
    },
    {
      "cell_type": "markdown",
      "metadata": {
        "id": "C8vKJamFLpnQ",
        "colab_type": "text"
      },
      "source": [
        "***\n",
        "## DQN"
      ]
    },
    {
      "cell_type": "markdown",
      "metadata": {
        "id": "pLU2VHyfLpnU",
        "colab_type": "text"
      },
      "source": [
        "Let us assume here that $T=\\infty$.\n",
        "\n",
        "***\n",
        "__Question 5__ Let $\\pi$ be a policy, show that:\n",
        "\n",
        "\\begin{equation*}\n",
        "Q^{\\pi}(s,a)=E_{(s',a')\\sim p(.|s,a)}[r(s,a)+\\gamma Q^{\\pi}(s',a')]\n",
        "\\end{equation*}\n",
        "\n",
        "Then, show that for the optimal policy $\\pi^*$ (we assume its existence), the following holds: \n",
        "\n",
        "\\begin{equation*}\n",
        "Q^{*}(s,a)=E_{s'\\sim \\pi^*(.|s,a)}[r(s,a)+\\gamma\\max_{a'}Q^{*}(s',a')].\n",
        "\\end{equation*}\n",
        "Finally, deduce that a plausible objective is:\n",
        "\n",
        "\\begin{equation*}\n",
        "\\mathcal{L}(\\theta)=E_{s' \\sim \\pi^*(.|s,a)}\\Vert r+\\gamma\\max_{a'}Q(s',a',\\theta)-Q(s,a,\\theta)\\Vert^{2}.\n",
        "\\end{equation*}\n",
        "\n",
        "\n"
      ]
    },
    {
      "cell_type": "markdown",
      "metadata": {
        "id": "sc4ygblqLpnW",
        "colab_type": "text"
      },
      "source": [
        "We note the $Q$-function:\n",
        "\n",
        "\\begin{equation*}Q^\\pi(s,a)=E_{p^{\\pi}}[\\sum_{t\\le T}\\gamma^{t}r(s_{t},a_{t})|s_{0}=s,a_{0}=a] \\> .\n",
        "\\end{equation*}\n",
        "\n",
        "We have : \n",
        "\\begin{equation*}Q^\\pi(s,a)=E_{p^{\\pi}}[\\gamma^0 r(s_0, a_0) + \\sum_{1 \\le t \\le T}\\gamma^{t}r(s_{t},a_{t})|s_{0}=s,a_{0}=a] \\> .\n",
        "\\end{equation*}\n",
        "\n",
        "Let us do a change of variable :\n",
        "\\begin{equation*}Q^\\pi(s,a)=E_{p^{\\pi}}[r(s_0, a_0) + \\gamma \\sum_{0 \\le t \\le T-1}\\gamma^{t}r(s_{t},a_{t})|p_\\pi(s_{0}),p_\\pi(a_{0})] \\> .\n",
        "\\end{equation*}\n",
        "\n",
        "So :\n",
        "\\begin{equation*}\n",
        "Q^{\\pi}(s,a)=E_{(s',a')\\sim p(.|s,a)}[r(s,a)+\\gamma Q^{\\pi}(s',a')]\n",
        "\\end{equation*}\n",
        "\n",
        "$\\pi^*$ is optimal if and only if $\\forall a', Q^{\\pi^*}(s',a') = \\max_{a'}{Q^*(s',a')}$ ie each action taken by theoptimal policy paves the way to the best reward possible.\n",
        "\n",
        "We want our policy to be as close as possible to the optimal one. Minimizing the MSE si a way to do it.\n"
      ]
    },
    {
      "cell_type": "markdown",
      "metadata": {
        "id": "_iq_k6w9LpnY",
        "colab_type": "text"
      },
      "source": [
        "***\n",
        "The DQN-learning algorithm relies on these derivations to train the parameters $\\theta$ of a Deep Neural Network:\n",
        "\n",
        "1. At the state $s_t$, select the action $a_t$ with best reward using $Q_t$ and store the results;\n",
        "\n",
        "2. Obtain the new state $s_{t+1}$ from the environment $p$;\n",
        "\n",
        "3. Store $(s_t,a_t,s_{t+1})$;\n",
        "\n",
        "4. Obtain $Q_{t+1}$ by minimizing  $\\mathcal{L}$ from a recovered batch from the previously stored results.\n",
        "\n",
        "***\n",
        "__Question 6__ Implement the class ```Memory``` that stores moves (in a replay buffer) via ```remember``` and provides a ```random_access``` to these. Specify a maximum memory size to avoid side effects. You can for example use a ```list()``` and set by default ```max_memory=100```."
      ]
    },
    {
      "cell_type": "code",
      "metadata": {
        "id": "U3zzQOHkLpnb",
        "colab_type": "code",
        "colab": {}
      },
      "source": [
        "class Memory(object):\n",
        "    def __init__(self, max_memory=100):\n",
        "        self.max_memory = max_memory\n",
        "        self.memory = list()\n",
        "\n",
        "    def remember(self, m):\n",
        "        self.memory.append(m)\n",
        "        if len(self.memory) > self.max_memory :\n",
        "            del self.memory[0]\n",
        "\n",
        "    def random_access(self):\n",
        "        return self.memory[np.random.randint(len(self.memory))]"
      ],
      "execution_count": 0,
      "outputs": []
    },
    {
      "cell_type": "markdown",
      "metadata": {
        "id": "waFpU-zTLpni",
        "colab_type": "text"
      },
      "source": [
        "***\n",
        "The pipeline we will use for training is given below:"
      ]
    },
    {
      "cell_type": "code",
      "metadata": {
        "id": "08l1TuF9Lpnl",
        "colab_type": "code",
        "colab": {}
      },
      "source": [
        "def train(agent,env,epoch,prefix=''):\n",
        "    # Number of won games\n",
        "    score = 0\n",
        "    loss = 0\n",
        "\n",
        "    for e in range(epoch):\n",
        "        # At each epoch, we restart to a fresh game and get the initial state\n",
        "        state = env.reset()\n",
        "        # This assumes that the games will terminate\n",
        "        game_over = False\n",
        "\n",
        "        win = 0\n",
        "        lose = 0\n",
        "\n",
        "        while not game_over:\n",
        "            # The agent performs an action\n",
        "            action = agent.act(state)\n",
        "\n",
        "            # Apply an action to the environment, get the next state, the reward\n",
        "            # and if the games end\n",
        "            prev_state = state\n",
        "            state, reward, game_over = env.act(action)\n",
        "\n",
        "            # Update the counters\n",
        "            if reward > 0:\n",
        "                win = win + reward\n",
        "            if reward < 0:\n",
        "                lose = lose -reward\n",
        "\n",
        "            # Apply the reinforcement strategy\n",
        "            loss = agent.reinforce(prev_state, state,  action, reward, game_over)\n",
        "\n",
        "        # Save as a mp4\n",
        "        env.draw(prefix+str(e))\n",
        "\n",
        "        # Update stats\n",
        "        score += win-lose\n",
        "\n",
        "        print(\"Epoch {:03d}/{:03d} | Loss {:.4f} | Win/lose count {}/{} ({})\"\n",
        "              .format(e, epoch, loss, win, lose, win-lose))\n",
        "        #agent.save(name_weights=prefix+'model.h5',name_model=prefix+'model.json')"
      ],
      "execution_count": 0,
      "outputs": []
    },
    {
      "cell_type": "markdown",
      "metadata": {
        "id": "8gRtftv1Lpnt",
        "colab_type": "text"
      },
      "source": [
        "***\n",
        "__Question 7__ Implement the DQN training algorithm using a cascade of fully connected layers. You can use different learning rate, batch size or memory size parameters. In particular, the loss might oscillate while the player will start to win the games. You have to find a good criterium."
      ]
    },
    {
      "cell_type": "code",
      "metadata": {
        "id": "FdvbAb55Lpnw",
        "colab_type": "code",
        "colab": {}
      },
      "source": [
        "class DQN(Agent):\n",
        "    def __init__(self, grid_size,  epsilon = 0.1, memory_size=100, batch_size = 16, n_state=2):\n",
        "        super(DQN, self).__init__(epsilon = epsilon)\n",
        "\n",
        "        # Discount for Q learning\n",
        "        self.discount = 0.99\n",
        "        \n",
        "        self.grid_size = grid_size\n",
        "        \n",
        "        # number of state\n",
        "        self.n_state = n_state\n",
        "\n",
        "        # Memory\n",
        "        self.memory = Memory(memory_size)\n",
        "        \n",
        "        # Batch size when learning\n",
        "        self.batch_size = batch_size\n",
        "\n",
        "    def learned_act(self, s):\n",
        "        return self.model(torch.tensor(s)[None]).argmax()\n",
        "\n",
        "    def reinforce(self, s_, n_s_, a_, r_, game_over_):\n",
        "        # Two steps: first memorize the states, second learn from the pool\n",
        "\n",
        "        self.memory.remember( [torch.tensor(s_), torch.tensor(n_s_), a_, r_, game_over_] )\n",
        "        \n",
        "        input_states = torch.zeros((self.batch_size, 5,5,self.n_state))\n",
        "        target_q = torch.zeros((self.batch_size, 4))\n",
        "        \n",
        "        for i in range(self.batch_size):\n",
        "            input_i = self.memory.random_access()\n",
        "\n",
        "            if input_i[-1]:\n",
        "                input_states[i] = input_i[0]\n",
        "                target_q[i, :] = self.model(input_i[0][None])\n",
        "            else:\n",
        "                input_states[i] = input_i[0]\n",
        "                target_q[i,:] = self.model(input_i[0][None])\n",
        "                target_q[i, input_i[2]] = input_i[3] + self.discount * self.model(input_i[1][None]).max()\n",
        "\n",
        "        # HINT: Clip the target to avoid exploiding gradients.. -- clipping is a bit tighter\n",
        "        target_q[target_q<-3] = -3\n",
        "        target_q[target_q>3] = 3\n",
        "\n",
        "        l = self.model.train_on_batch(input_states, target_q)\n",
        "        \n",
        "        # Update\n",
        "        l.backward()\n",
        "        self.optim.step()\n",
        "        self.optim.zero_grad()\n",
        "        return l\n",
        "\n",
        "    def save(self,name_weights='model.h5',name_model='model.json'):\n",
        "        self.model.save_weights(name_weights, overwrite=True)\n",
        "        with open(name_model, \"w\") as outfile:\n",
        "            json.dump(self.model.to_json(), outfile)\n",
        "            \n",
        "    def load(self,name_weights='model.h5',name_model='model.json'):\n",
        "        with open(name_model, \"r\") as jfile:\n",
        "            model = model_from_json(json.load(jfile))\n",
        "        model.load_weights(name_weights)\n",
        "        model.compile(\"sgd\", \"mse\")\n",
        "        self.model = model\n",
        "            \n",
        "class DQN_FC(DQN):\n",
        "    def __init__(self, *args, lr=0.1,**kwargs):\n",
        "        super(DQN_FC, self).__init__( *args,**kwargs)\n",
        "        \n",
        "        # NN Model\n",
        "        ####### FILL IN\n",
        "        model = Model_FC()\n",
        "        self.optim = optim.Adam(model.parameters(), lr=lr, weight_decay=1e-4)#, momentum=0.0)\n",
        "        self.model = model\n",
        "\n",
        "\n",
        "class Model_FC(nn.Module):\n",
        "    def __init__(self, n_hidden=64, n_hidden_2=16, states_flatten_size = 50):\n",
        "        super(Model_FC, self).__init__()\n",
        "        self.fc1 = nn.Linear(states_flatten_size, n_hidden)\n",
        "        self.fc2 = nn.Linear(n_hidden, n_hidden_2)\n",
        "        self.fc3 = nn.Linear(n_hidden_2, 4)\n",
        "    \n",
        "    def forward(self, x):\n",
        "        x = x.view(x.size(0), -1).float()\n",
        "        x = F.relu(self.fc1(x))\n",
        "        x = F.leaky_relu(self.fc2(x))\n",
        "        x = self.fc3(x)\n",
        "        return x\n",
        "\n",
        "    def train_on_batch(self, input_states, target_q) :\n",
        "        L = torch.nn.MSELoss()(target_q, self.forward(input_states))\n",
        "        return L\n",
        "        "
      ],
      "execution_count": 0,
      "outputs": []
    },
    {
      "cell_type": "code",
      "metadata": {
        "id": "nRkHSIvHLpoE",
        "colab_type": "code",
        "outputId": "a3938cb3-f11b-4e27-e317-3f27691b236c",
        "colab": {
          "base_uri": "https://localhost:8080/",
          "height": 774
        }
      },
      "source": [
        "env = Environment(grid_size=size, max_time=T, temperature=0.3)\n",
        "agent_fc = DQN_FC(size, lr=.001, epsilon = 0.1, memory_size=2000, batch_size = 32)\n",
        "train(agent_fc, env, epochs_train, prefix='fc_train')\n",
        "test(agent_fc,env,epochs_test, prefix='fc_test')\n",
        "HTML(display_videos('fc_test9.mp4'))"
      ],
      "execution_count": 12,
      "outputs": [
        {
          "output_type": "stream",
          "text": [
            "Epoch 000/015 | Loss 0.0022 | Win/lose count 3.5/5.0 (-1.5)\n",
            "Epoch 001/015 | Loss 0.0038 | Win/lose count 4.0/3.0 (1.0)\n",
            "Epoch 002/015 | Loss 0.0005 | Win/lose count 3.0/7.0 (-4.0)\n",
            "Epoch 003/015 | Loss 0.0019 | Win/lose count 3.0/0 (3.0)\n",
            "Epoch 004/015 | Loss 0.0012 | Win/lose count 4.5/2.0 (2.5)\n",
            "Epoch 005/015 | Loss 0.0047 | Win/lose count 4.0/2.0 (2.0)\n",
            "Epoch 006/015 | Loss 0.0005 | Win/lose count 8.0/6.0 (2.0)\n",
            "Epoch 007/015 | Loss 0.0033 | Win/lose count 3.0/4.0 (-1.0)\n",
            "Epoch 008/015 | Loss 0.0014 | Win/lose count 6.0/4.0 (2.0)\n",
            "Epoch 009/015 | Loss 0.0008 | Win/lose count 5.5/3.0 (2.5)\n",
            "Epoch 010/015 | Loss 0.0024 | Win/lose count 3.5/4.0 (-0.5)\n",
            "Epoch 011/015 | Loss 0.0057 | Win/lose count 4.5/0 (4.5)\n",
            "Epoch 012/015 | Loss 0.0029 | Win/lose count 7.5/1.0 (6.5)\n",
            "Epoch 013/015 | Loss 0.0006 | Win/lose count 5.0/3.0 (2.0)\n",
            "Epoch 014/015 | Loss 0.0035 | Win/lose count 5.0/3.0 (2.0)\n",
            "Win/lose count 3.5/1.0. Average score (2.5)\n",
            "Win/lose count 14.0/5.0. Average score (5.75)\n",
            "Win/lose count 6.0/1.0. Average score (5.5)\n",
            "Win/lose count 1.5/2.0. Average score (4.0)\n",
            "Win/lose count 9.5/3.0. Average score (4.5)\n",
            "Win/lose count 15.5/3.0. Average score (5.833333333333333)\n",
            "Win/lose count 8.0/2.0. Average score (5.857142857142857)\n",
            "Win/lose count 13.0/0. Average score (6.75)\n",
            "Win/lose count 10.5/2.0. Average score (6.944444444444445)\n",
            "Win/lose count 8.5/3.0. Average score (6.8)\n",
            "Final score: 6.8\n"
          ],
          "name": "stdout"
        },
        {
          "output_type": "execute_result",
          "data": {
            "text/html": [
              "<video alt=\"test\" controls>\n",
              "                <source src=\"data:video/mp4;base64,AAAAIGZ0eXBpc29tAAACAGlzb21pc28yYXZjMW1wNDEAAAAIZnJlZQAAFqRtZGF0AAACrQYF//+p3EXpvebZSLeWLNgg2SPu73gyNjQgLSBjb3JlIDE1MiByMjg1NCBlOWE1OTAzIC0gSC4yNjQvTVBFRy00IEFWQyBjb2RlYyAtIENvcHlsZWZ0IDIwMDMtMjAxNyAtIGh0dHA6Ly93d3cudmlkZW9sYW4ub3JnL3gyNjQuaHRtbCAtIG9wdGlvbnM6IGNhYmFjPTEgcmVmPTMgZGVibG9jaz0xOjA6MCBhbmFseXNlPTB4MToweDExMSBtZT1oZXggc3VibWU9NyBwc3k9MSBwc3lfcmQ9MS4wMDowLjAwIG1peGVkX3JlZj0xIG1lX3JhbmdlPTE2IGNocm9tYV9tZT0xIHRyZWxsaXM9MSA4eDhkY3Q9MCBjcW09MCBkZWFkem9uZT0yMSwxMSBmYXN0X3Bza2lwPTEgY2hyb21hX3FwX29mZnNldD00IHRocmVhZHM9MyBsb29rYWhlYWRfdGhyZWFkcz0xIHNsaWNlZF90aHJlYWRzPTAgbnI9MCBkZWNpbWF0ZT0xIGludGVybGFjZWQ9MCBibHVyYXlfY29tcGF0PTAgY29uc3RyYWluZWRfaW50cmE9MCBiZnJhbWVzPTMgYl9weXJhbWlkPTIgYl9hZGFwdD0xIGJfYmlhcz0wIGRpcmVjdD0xIHdlaWdodGI9MSBvcGVuX2dvcD0wIHdlaWdodHA9MiBrZXlpbnQ9MjUwIGtleWludF9taW49MjUgc2NlbmVjdXQ9NDAgaW50cmFfcmVmcmVzaD0wIHJjX2xvb2thaGVhZD00MCByYz1jcmYgbWJ0cmVlPTEgY3JmPTIzLjAgcWNvbXA9MC42MCBxcG1pbj0wIHFwbWF4PTY5IHFwc3RlcD00IGlwX3JhdGlvPTEuNDAgYXE9MToxLjAwAIAAAALhZYiEADf//vaH+BTZWBP+Wb/9DX/cj9uPrP1xYyEE31qvIejAGS+1H+b/rFFs6Z6UB/fgCJQAc24ZwpJw4v/ApLdW+BTLYTnGrzD8eNPwpbJHJ82/tw/3pGB7SJWKUCDCmkMBlBqsDoNQnatm4WhErxDmJoTl+hyoPFDNAoPB52jFm3008GD6sUaP8OnR0mX1DgU9ck5NOZQIYuNZ+dEMAuIVDQE4XQ5w+D+2COyjjxLgXET/e4nd5TPg+p6fviCOd3k3D7vvzTcVYKhWKESzyC2Ru9RqglQPbvwG8kYMRHfJEDlnuH2/1P4bZ2xfUaKveVQWAxYc4sM1LfdZM3C0tsK0lPTzdgyYRzwq17+zkhGigsyz3NERWJKKcPVFE3l1xKC0uwOcR3z7tjbEKBC2+sVj07FnNp7cd4AqAwPYpAPFpNFT9E/l4fzMzQKcGIF4yDsLWWuZFfOUMrglBG5lQ4rCCD2kYbuWGkU778TSgdeRe5nk80nigsAC+q7HFtgW0WlVT0W7QuhQGtc4xK4wzvRVJhPjkm/rVJxtJsWRyiAEhEq98XtoE2sU7jwnvtfKQyfjr3wUddrB+BH0BiHJum1Hu5mqbpLRahDqzXPoDwb9bWQvyGzyRrQcFtgkB9F9mlxgcY5Q9iV2FRei+0fqPYNU+rAY9WuzslvkA/OKCxNFuz0rWAWhgYqSdCI7pTtcYZO9172CHC6Kq9sYHptTjL4c23VAaIt6wNqOQrgsRiPAabj2KpVT0q6xUQ5vuXp+DMU6WxoJAp0kS0p6AJqCDr/Kj3UxstSOfiU1eJ3W1zuUIjM48pF8ehoFfK42EAl5hE2YGlqwbevNuuu0h58cH8AhqFGh6xE3+kQVpkb0Cz/aRSuZqwAtdmQrX0J/j9jVhyVHHHwset0te7Sof1cLziIeV1wJiBAaVEIKNGNBhKt6WAN6N3e8JbKhOoGzqoaYLfSlmKD7yIx2nTrynfsAENEAAAAWQZohbEN//qeEAHc9lYEJ/ho1uhJgQAAAABpBmkU8IZMphDf//qeEAE2+OnvhiVuiwT/RmQAAABNBnmNqU8L/AC6MbWmIGh8xGY/iAAAAEAGegnRCvwA+HDAZJb/XEkEAAAAQAZ6EakK/ADy84a95pWcBwQAAABJBmodJqEFomUwU8N/+p4QAAScAAAAPAZ6makK/AF0ja7vu95qhAAAAG0GaqEnhClJlMCG//qeEAHEOM/1W+qgQn91C4AAAABhBmslJ4Q6JlMCHf/6plgBZPkGZ+EONNtAAAAAfQZrtSeEPJlMCHf/+qZYAiPx50s6hBmgSdLo8NYbZgQAAABFBnwtFETwv/wCjseQVXrySsAAAAA8Bnyp0Qr8A3NlXd5u1F8AAAAAQAZ8sakK/ANe7cJuM+vTXdQAAABJBmzFJqEFomUwIb//+p4QAAScAAAAMQZ9PRREsL/8AALKBAAAAEAGfbnRCvwDVZyd+AD7dSsAAAAAQAZ9wakK/ANVnJ3s8fbqVgAAAABJBm3VJqEFsmUwIZ//+nhAABH0AAAAMQZ+TRRUsL/8AALKAAAAAEAGfsnRCvwDVZyd+AD7dSsAAAAAQAZ+0akK/ANVnJ3s8fbqVgQAAABpBm7ZJqEFsmUwIb//+p4QBBfjp9RxoSHBlQAAAABdBm9hJ4QpSZTBRUsM//p4QAote40g5GwAAAA8Bn/dqQr8AiwaB5MEW6YEAAAAYQZv5SeEOiZTAhn/+nhACoe6bGXJsq21MAAAAGEGaGknhDyZTAhv//qeEAKh8adBWsyms/wAAABlBmjtJ4Q8mUwIb//6nhAD3HGf6rfMfiDUgAAAAHEGaX0nhDyZTAhn//p4QA8vr79Nr3Mc502Kmv00AAAAQQZ59RRE8L/8Als9a4uZLYQAAABABnpx0Qr8AzYAAZJb/W2VAAAAADwGenmpCvwCCvNE1JTb0gAAAABlBmoBJqEFomUwIb//+p4QAn3x0x/h9W207AAAAHUGaoknhClJlMFESwz/+nhACXfEP8FgDTw2wVQHwAAAAEAGewWpCvwB8QgE68AT+rYEAAAAYQZrDSeEOiZTAhn/+nhAA+Xr7+RIj6wmzAAAAGUGa5EnhDyZTAhv//qeEACo+6n6jjQkOUEEAAAAhQZsGSeEPJlMFETw3//6nhAAbH2VgQn8z76++tmKEfveBAAAAEAGfJWpCvwAWJr5zrQwvbUEAAAAeQZsoSeEPJlMFPDP//p4QAEG+If4xXcjdmvHRtZChAAAAEAGfR2pCvwAN0TJNN9JB1fAAAAAZQZtJSeEPJlMCGf/+nhAALDwbYLIwIFKLgAAAABlBm2pJ4Q8mUwIb//6nhAAHR9g/wnBboYHBAAAAGEGbi0nhDyZTAhv//qeEAAS746Y/w+rcrQAAABtBm6xJ4Q8mUwId//6plgACU/I6CGfv2Qbiv6AAAAASQZvQSeEPJlMCHf/+qZYAAJWBAAAADEGf7kURPC//AACygQAAABABng10Qr8AA7disYVI5DiRAAAAEAGeD2pCvwADtmodCbHJseAAAAATQZoUSahBaJlMCHf//qmWAACVgAAAAAxBnjJFESwv/wAAsoEAAAAQAZ5RdEK/AAO3YrGFSOQ4kAAAABABnlNqQr8AA7ZqHQmxybHgAAAAE0GaWEmoQWyZTAh3//6plgAAlYEAAAAMQZ52RRUsL/8AALKAAAAAEAGelXRCvwADt2KxhUjkOJEAAAAQAZ6XakK/AAO2ah0Jscmx4QAAABNBmpxJqEFsmUwId//+qZYAAJWAAAAADEGeukUVLC//AACygQAAABABntl0Qr8AA7disYVI5DiQAAAAEAGe22pCvwADtmodCbHJseEAAAATQZrASahBbJlMCHf//qmWAACVgQAAAAxBnv5FFSwv/wAAsoAAAAAQAZ8ddEK/AAO3YrGFSOQ4kAAAABABnx9qQr8AA7ZqHQmxybHhAAAAE0GbBEmoQWyZTAh3//6plgAAlYAAAAAMQZ8iRRUsL/8AALKBAAAAEAGfQXRCvwADt2KxhUjkOJAAAAAQAZ9DakK/AAO2ah0Jscmx4QAAABNBm0hJqEFsmUwId//+qZYAAJWBAAAADEGfZkUVLC//AACygQAAABABn4V0Qr8AA7disYVI5DiRAAAAEAGfh2pCvwADtmodCbHJseAAAAASQZuMSahBbJlMCG///qeEAAEnAAAADEGfqkUVLC//AACygQAAABABn8l0Qr8AA7disYVI5DiQAAAAEAGfy2pCvwADtmodCbHJseAAAAASQZvQSahBbJlMCGf//p4QAAR9AAAADEGf7kUVLC//AACygQAAABABng10Qr8AA7disYVI5DiRAAAAEAGeD2pCvwADtmodCbHJseAAAAAaQZoRSahBbJlMCG///qeEAASVAFm2IA5GEMAAAAAZQZoySeEKUmUwIb/+p4QABxDjP9VvmPx6YQAAABlBmlNJ4Q6JlMCHf/6plgADpDp+U0Y/Wo3AAAAAFkGad0nhDyZTAh3//qmWAAO/8KPuqCAAAAAOQZ6VRRE8L/8ABHaAN6EAAAAQAZ60dEK/AAYh5N0dt8OOgAAAAA8BnrZqQr8ABec5N1nq0OkAAAATQZq7SahBaJlMCHf//qmWAACVgQAAAAxBntlFESwv/wAAsoAAAAAQAZ74dEK/AAXnOTiOy7OUgQAAAA8BnvpqQr8ABec5N1nq0OkAAAASQZr/SahBbJlMCG///qeEAAEnAAAADEGfHUUVLC//AACygQAAABABnzx0Qr8ABec5OI7Ls5SAAAAADwGfPmpCvwAF5zk3WerQ6QAAABJBmyNJqEFsmUwIb//+p4QAAScAAAAMQZ9BRRUsL/8AALKAAAAAEAGfYHRCvwAF5zk4jsuzlIEAAAAPAZ9iakK/AAXnOTdZ6tDpAAAAGkGbZEmoQWyZTAhv//6nhAALV6J/qt8x+MnBAAAAHEGbiEnhClJlMCG//qeEABFvjpj/E1xqiD5vDtMAAAATQZ+mRTRML/8AD+L1/BQnm90/DQAAABABn8V0Qr8AFizKeB0ynFOBAAAAEAGfx2pCvwAWJr5zrQwvbUAAAAAaQZvJSahBaJlMCG///qeEABDvjp9RxoSHYsAAAAAZQZvqSeEKUmUwId/+qZYABbdLK4zS/thMwQAAABtBmg5J4Q6JlMCHf/6plgAIgv3cLx583S9UomAAAAAVQZ4sRRE8L/8ACsysdLjYJ7pEgW/cAAAADwGeS3RCvwAOhGHlDQM2xwAAAA8Bnk1qQr8ADoApTNsyNwEAAAATQZpSSahBaJlMCHf//qmWAACVgQAAAAxBnnBFESwv/wAAsoAAAAAPAZ6PdEK/AA4rYGh5zy/lAAAADwGekWpCvwAOJzholc8v5QAAABNBmpZJqEFsmUwId//+qZYAAJWAAAAADEGetEUVLC//AACygAAAAA8BntN0Qr8ADitgaHnPL+UAAAAPAZ7VakK/AA4nOGiVzy/lAAAAE0Ga2kmoQWyZTAh3//6plgAAlYEAAAAMQZ74RRUsL/8AALKBAAAADwGfF3RCvwAOK2Boec8v5QAAAA8BnxlqQr8ADic4aJXPL+UAAAATQZseSahBbJlMCHf//qmWAACVgAAAAAxBnzxFFSwv/wAAsoEAAAAPAZ9bdEK/AA4rYGh5zy/lAAAADwGfXWpCvwAOJzholc8v5QAAABNBm0JJqEFsmUwId//+qZYAAJWAAAAADEGfYEUVLC//AACygQAAAA8Bn590Qr8ADitgaHnPL+UAAAAPAZ+BakK/AA4nOGiVzy/lAAAAE0GbhkmoQWyZTAh3//6plgAAlYAAAAAMQZ+kRRUsL/8AALKBAAAADwGfw3RCvwAOK2Boec8v5QAAAA8Bn8VqQr8ADic4aJXPL+UAAAAcQZvKSahBbJlMCHf//qmWAAiPx5/M0KgWimIdJwAAABBBn+hFFSwv/wAKOyxUIL/gAAAAEAGeB3RCvwAOK2BraZQ9e0AAAAAPAZ4JakK/AAkwaB5MEj6BAAAAHEGaDkmoQWyZTAhv//6nhAALZ7qfuZGFsxQjnSwAAAAQQZ4sRRUsL/8ABsBG73BhwAAAAA8Bnkt0Qr8ACSuyhSbZK+0AAAAPAZ5NakK/AAX4FjYHKl2BAAAAEkGaUkmoQWyZTAhv//6nhAABJwAAAAxBnnBFFSwv/wAAsoAAAAAQAZ6PdEK/AAX55N0dt8OUgAAAAA8BnpFqQr8ABfgWNErnmOkAAAAaQZqTSahBbJlMCG///qeEAAcb2D/CcFuhhEAAAAAZQZq0SeEKUmUwId/+qZYAAmBRzrQ9X3zFwAAAABZBmthJ4Q6JlMCHf/6plgABioLK5O/xAAAADkGe9kURPC//AAHP/fSgAAAAEAGfFXRCvwADwqG9l1X8X8EAAAAPAZ8XakK/AAPCobsM9WjpAAAAE0GbHEmoQWiZTAh3//6plgAAlYAAAAAMQZ86RREsL/8AALKBAAAAEAGfWXRCvwADwqG7p2XaEIAAAAAPAZ9bakK/AAPCobsM9WjpAAAAE0GbQEmoQWyZTAh3//6plgAAlYEAAAAMQZ9+RRUsL/8AALKAAAAAEAGfnXRCvwADwqG7p2XaEIAAAAAPAZ+fakK/AAPCobsM9WjpAAAAE0GbhEmoQWyZTAh3//6plgAAlYAAAAAMQZ+iRRUsL/8AALKBAAAAEAGfwXRCvwADwqG7p2XaEIAAAAAPAZ/DakK/AAPCobsM9WjpAAAAE0GbyEmoQWyZTAh3//6plgAAlYEAAAAMQZ/mRRUsL/8AALKBAAAAEAGeBXRCvwADwqG7p2XaEIEAAAAPAZ4HakK/AAPCobsM9WjpAAAAE0GaDEmoQWyZTAh3//6plgAAlYAAAAAMQZ4qRRUsL/8AALKBAAAAEAGeSXRCvwADwqG7p2XaEIAAAAAPAZ5LakK/AAPCobsM9WjpAAAAHEGaUEmoQWyZTAh3//6plgADjjqFkJNzT0Y/TvcAAAAQQZ5uRRUsL/8ABDc/c4WeCQAAAA8Bno10Qr8AA8xegMkvEIEAAAAQAZ6PakK/AAXSyITcZ9evOAAAABpBmpJJqEFsmUwUTDv//qmWAAOT7S/sWs4khgAAABABnrFqQr8ABdG5DD6AkHvZAAAAEkGatknhClJlMCHf/qmWAACVgAAAAAxBntRFNEwv/wAAsoAAAAAQAZ7zdEK/AAPCob2XVfxfwQAAAA8BnvVqQr8AA8Khuwz1aOkAAAAXQZr6SahBaJlMCHf//qmWAAJz8efygSEAAAAOQZ8YRREsL/8AAujKr+EAAAAPAZ83dEK/AAPi2Boec8zfAAAADwGfOWpCvwADwqG7DPVo6QAAABJBmz5JqEFsmUwIb//+p4QAAScAAAAMQZ9cRRUsL/8AALKBAAAAEAGfe3RCvwADwqG7p2XaEIEAAAAPAZ99akK/AAPCobsM9WjpAAAAEkGbYkmoQWyZTAhv//6nhAABJwAAAAxBn4BFFSwv/wAAsoEAAAAQAZ+/dEK/AAPCobunZdoQgAAAAA8Bn6FqQr8AA8Khuwz1aOkAAAAdQZukSahBbJlMFEw3//6nhAAHEB4muNUS/RP8k8gAAAAQAZ/DakK/AAX4FjXvNK0uwQAAABtBm8hJ4QpSZTAhf/6MsAAslUuTNvTLfOnxEkEAAAAQQZ/mRTRML/8ABsBG73BhwQAAABABngV0Qr8ACS+aoHTtRDaBAAAADwGeB2pCvwAJMGgeTBI+gAAAABpBmglLqEIQWiRGCCgH8gH9h4AhX/44QAARcAAADChtb292AAAAbG12aGQAAAAAAAAAAAAAAAAAAAPoAAAfkAABAAABAAAAAAAAAAAAAAAAAQAAAAAAAAAAAAAAAAAAAAEAAAAAAAAAAAAAAAAAAEAAAAAAAAAAAAAAAAAAAAAAAAAAAAAAAAAAAAAAAAACAAALUnRyYWsAAABcdGtoZAAAAAMAAAAAAAAAAAAAAAEAAAAAAAAfkAAAAAAAAAAAAAAAAAAAAAAAAQAAAAAAAAAAAAAAAAAAAAEAAAAAAAAAAAAAAAAAAEAAAAABEAAAARAAAAAAACRlZHRzAAAAHGVsc3QAAAAAAAAAAQAAH5AAAAQAAAEAAAAACsptZGlhAAAAIG1kaGQAAAAAAAAAAAAAAAAAADIAAAGUAFXEAAAAAAAtaGRscgAAAAAAAAAAdmlkZQAAAAAAAAAAAAAAAFZpZGVvSGFuZGxlcgAAAAp1bWluZgAAABR2bWhkAAAAAQAAAAAAAAAAAAAAJGRpbmYAAAAcZHJlZgAAAAAAAAABAAAADHVybCAAAAABAAAKNXN0YmwAAACVc3RzZAAAAAAAAAABAAAAhWF2YzEAAAAAAAAAAQAAAAAAAAAAAAAAAAAAAAABEAEQAEgAAABIAAAAAAAAAAEAAAAAAAAAAAAAAAAAAAAAAAAAAAAAAAAAAAAAAAAAAAAY//8AAAAvYXZjQwH0AA3/4QAXZ/QADZGbKCIR0IAAAAMAgAAAGQeKFMsBAAVo6+PESAAAABhzdHRzAAAAAAAAAAEAAADKAAACAAAAABRzdHNzAAAAAAAAAAEAAAABAAAGAGN0dHMAAAAAAAAAvgAAAAIAAAQAAAAAAQAACgAAAAABAAAEAAAAAAEAAAAAAAAAAQAAAgAAAAABAAAGAAAAAAEAAAIAAAAAAgAABAAAAAABAAAKAAAAAAEAAAQAAAAAAQAAAAAAAAABAAACAAAAAAEAAAoAAAAAAQAABAAAAAABAAAAAAAAAAEAAAIAAAAAAQAACgAAAAABAAAEAAAAAAEAAAAAAAAAAQAAAgAAAAABAAAEAAAAAAEAAAYAAAAAAQAAAgAAAAADAAAEAAAAAAEAAAoAAAAAAQAABAAAAAABAAAAAAAAAAEAAAIAAAAAAQAABAAAAAABAAAGAAAAAAEAAAIAAAAAAgAABAAAAAABAAAGAAAAAAEAAAIAAAAAAQAABgAAAAABAAACAAAAAAQAAAQAAAAAAQAACgAAAAABAAAEAAAAAAEAAAAAAAAAAQAAAgAAAAABAAAKAAAAAAEAAAQAAAAAAQAAAAAAAAABAAACAAAAAAEAAAoAAAAAAQAABAAAAAABAAAAAAAAAAEAAAIAAAAAAQAACgAAAAABAAAEAAAAAAEAAAAAAAAAAQAAAgAAAAABAAAKAAAAAAEAAAQAAAAAAQAAAAAAAAABAAACAAAAAAEAAAoAAAAAAQAABAAAAAABAAAAAAAAAAEAAAIAAAAAAQAACgAAAAABAAAEAAAAAAEAAAAAAAAAAQAAAgAAAAABAAAKAAAAAAEAAAQAAAAAAQAAAAAAAAABAAACAAAAAAEAAAoAAAAAAQAABAAAAAABAAAAAAAAAAEAAAIAAAAAAwAABAAAAAABAAAKAAAAAAEAAAQAAAAAAQAAAAAAAAABAAACAAAAAAEAAAoAAAAAAQAABAAAAAABAAAAAAAAAAEAAAIAAAAAAQAACgAAAAABAAAEAAAAAAEAAAAAAAAAAQAAAgAAAAABAAAKAAAAAAEAAAQAAAAAAQAAAAAAAAABAAACAAAAAAEAAAQAAAAAAQAACgAAAAABAAAEAAAAAAEAAAAAAAAAAQAAAgAAAAACAAAEAAAAAAEAAAoAAAAAAQAABAAAAAABAAAAAAAAAAEAAAIAAAAAAQAACgAAAAABAAAEAAAAAAEAAAAAAAAAAQAAAgAAAAABAAAKAAAAAAEAAAQAAAAAAQAAAAAAAAABAAACAAAAAAEAAAoAAAAAAQAABAAAAAABAAAAAAAAAAEAAAIAAAAAAQAACgAAAAABAAAEAAAAAAEAAAAAAAAAAQAAAgAAAAABAAAKAAAAAAEAAAQAAAAAAQAAAAAAAAABAAACAAAAAAEAAAoAAAAAAQAABAAAAAABAAAAAAAAAAEAAAIAAAAAAQAACgAAAAABAAAEAAAAAAEAAAAAAAAAAQAAAgAAAAABAAAKAAAAAAEAAAQAAAAAAQAAAAAAAAABAAACAAAAAAEAAAoAAAAAAQAABAAAAAABAAAAAAAAAAEAAAIAAAAAAgAABAAAAAABAAAKAAAAAAEAAAQAAAAAAQAAAAAAAAABAAACAAAAAAEAAAoAAAAAAQAABAAAAAABAAAAAAAAAAEAAAIAAAAAAQAACgAAAAABAAAEAAAAAAEAAAAAAAAAAQAAAgAAAAABAAAKAAAAAAEAAAQAAAAAAQAAAAAAAAABAAACAAAAAAEAAAoAAAAAAQAABAAAAAABAAAAAAAAAAEAAAIAAAAAAQAACgAAAAABAAAEAAAAAAEAAAAAAAAAAQAAAgAAAAABAAAKAAAAAAEAAAQAAAAAAQAAAAAAAAABAAACAAAAAAEAAAYAAAAAAQAAAgAAAAABAAAKAAAAAAEAAAQAAAAAAQAAAAAAAAABAAACAAAAAAEAAAoAAAAAAQAABAAAAAABAAAAAAAAAAEAAAIAAAAAAQAACgAAAAABAAAEAAAAAAEAAAAAAAAAAQAAAgAAAAABAAAKAAAAAAEAAAQAAAAAAQAAAAAAAAABAAACAAAAAAEAAAYAAAAAAQAAAgAAAAABAAAKAAAAAAEAAAQAAAAAAQAAAAAAAAABAAACAAAAAAEAAAQAAAAAHHN0c2MAAAAAAAAAAQAAAAEAAADKAAAAAQAAAzxzdHN6AAAAAAAAAAAAAADKAAAFlgAAABoAAAAeAAAAFwAAABQAAAAUAAAAFgAAABMAAAAfAAAAHAAAACMAAAAVAAAAEwAAABQAAAAWAAAAEAAAABQAAAAUAAAAFgAAABAAAAAUAAAAFAAAAB4AAAAbAAAAEwAAABwAAAAcAAAAHQAAACAAAAAUAAAAFAAAABMAAAAdAAAAIQAAABQAAAAcAAAAHQAAACUAAAAUAAAAIgAAABQAAAAdAAAAHQAAABwAAAAfAAAAFgAAABAAAAAUAAAAFAAAABcAAAAQAAAAFAAAABQAAAAXAAAAEAAAABQAAAAUAAAAFwAAABAAAAAUAAAAFAAAABcAAAAQAAAAFAAAABQAAAAXAAAAEAAAABQAAAAUAAAAFwAAABAAAAAUAAAAFAAAABYAAAAQAAAAFAAAABQAAAAWAAAAEAAAABQAAAAUAAAAHgAAAB0AAAAdAAAAGgAAABIAAAAUAAAAEwAAABcAAAAQAAAAFAAAABMAAAAWAAAAEAAAABQAAAATAAAAFgAAABAAAAAUAAAAEwAAAB4AAAAgAAAAFwAAABQAAAAUAAAAHgAAAB0AAAAfAAAAGQAAABMAAAATAAAAFwAAABAAAAATAAAAEwAAABcAAAAQAAAAEwAAABMAAAAXAAAAEAAAABMAAAATAAAAFwAAABAAAAATAAAAEwAAABcAAAAQAAAAEwAAABMAAAAXAAAAEAAAABMAAAATAAAAIAAAABQAAAAUAAAAEwAAACAAAAAUAAAAEwAAABMAAAAWAAAAEAAAABQAAAATAAAAHgAAAB0AAAAaAAAAEgAAABQAAAATAAAAFwAAABAAAAAUAAAAEwAAABcAAAAQAAAAFAAAABMAAAAXAAAAEAAAABQAAAATAAAAFwAAABAAAAAUAAAAEwAAABcAAAAQAAAAFAAAABMAAAAgAAAAFAAAABMAAAAUAAAAHgAAABQAAAAWAAAAEAAAABQAAAATAAAAGwAAABIAAAATAAAAEwAAABYAAAAQAAAAFAAAABMAAAAWAAAAEAAAABQAAAATAAAAIQAAABQAAAAfAAAAFAAAABQAAAATAAAAHgAAABRzdGNvAAAAAAAAAAEAAAAwAAAAYnVkdGEAAABabWV0YQAAAAAAAAAhaGRscgAAAAAAAAAAbWRpcmFwcGwAAAAAAAAAAAAAAAAtaWxzdAAAACWpdG9vAAAAHWRhdGEAAAABAAAAAExhdmY1Ny44My4xMDA=\" type=\"video/mp4\" />\n",
              "             </video>"
            ],
            "text/plain": [
              "<IPython.core.display.HTML object>"
            ]
          },
          "metadata": {
            "tags": []
          },
          "execution_count": 12
        }
      ]
    },
    {
      "cell_type": "markdown",
      "metadata": {
        "id": "g0kfoDPtLpoR",
        "colab_type": "text"
      },
      "source": [
        "***\n",
        "***\n",
        "__Question 8__ Implement the DQN training algorithm using a CNN (for example, 2 convolutional layers and one final fully connected layer)."
      ]
    },
    {
      "cell_type": "code",
      "metadata": {
        "id": "o8jyjTvcLpoU",
        "colab_type": "code",
        "colab": {}
      },
      "source": [
        "class DQN_CNN(DQN):\n",
        "    def __init__(self, *args,lr=0.1,**kwargs):\n",
        "        super(DQN_CNN, self).__init__(*args,**kwargs)\n",
        "        \n",
        "        ###### FILL IN\n",
        "        model = Model_CNN(self.n_state)\n",
        "        self.optim = optim.Adam(model.parameters(), lr=lr, weight_decay=1e-4)#, momentum=0.0)\n",
        "        self.model = model\n",
        "\n",
        "class Model_CNN(nn.Module):\n",
        "    def __init__(self, n_state):\n",
        "        super(Model_CNN, self).__init__()\n",
        "        self.conv1 = nn.Conv2d(n_state, 16, 3)\n",
        "        self.conv2 = nn.Conv2d(16, 64, 3)\n",
        "        self.fc3 = nn.Linear(64, 4)\n",
        "    \n",
        "    def forward(self, x):\n",
        "        x = x.view(x.size(0), x.size(3), x.size(1), x.size(2)).float()\n",
        "        x = F.relu(self.conv1(x))\n",
        "        x = F.leaky_relu(self.conv2(x))\n",
        "        x = x.view(x.size(0), -1)\n",
        "        x = self.fc3(x)\n",
        "        return x\n",
        "\n",
        "    def train_on_batch(self, input_states, target_q) :\n",
        "        L = torch.nn.MSELoss()(target_q, self.forward(input_states))\n",
        "        return L"
      ],
      "execution_count": 0,
      "outputs": []
    },
    {
      "cell_type": "code",
      "metadata": {
        "id": "4N65qHFOLpob",
        "colab_type": "code",
        "outputId": "6d083c9d-84f2-4306-bdf4-072f028af7d3",
        "colab": {
          "base_uri": "https://localhost:8080/",
          "height": 774
        }
      },
      "source": [
        "env = Environment(grid_size=size, max_time=T, temperature=0.3)\n",
        "agent_cnn = DQN_CNN(size, lr=.001, epsilon = 0.1, memory_size=2000, batch_size = 32)\n",
        "train(agent_cnn,env,epochs_train,prefix='cnn_train')\n",
        "test(agent_cnn,env,epochs_test,prefix='cnn_test')\n",
        "HTML(display_videos('cnn_test0.mp4'))"
      ],
      "execution_count": 14,
      "outputs": [
        {
          "output_type": "stream",
          "text": [
            "Epoch 000/015 | Loss 0.0022 | Win/lose count 0.5/9.0 (-8.5)\n",
            "Epoch 001/015 | Loss 0.0001 | Win/lose count 0.5/2.0 (-1.5)\n",
            "Epoch 002/015 | Loss 0.0019 | Win/lose count 4.0/3.0 (1.0)\n",
            "Epoch 003/015 | Loss 0.0037 | Win/lose count 4.5/2.0 (2.5)\n",
            "Epoch 004/015 | Loss 0.0016 | Win/lose count 6.0/3.0 (3.0)\n",
            "Epoch 005/015 | Loss 0.0001 | Win/lose count 2.0/0 (2.0)\n",
            "Epoch 006/015 | Loss 0.0023 | Win/lose count 3.5/0 (3.5)\n",
            "Epoch 007/015 | Loss 0.0014 | Win/lose count 7.5/2.0 (5.5)\n",
            "Epoch 008/015 | Loss 0.0007 | Win/lose count 4.5/2.0 (2.5)\n",
            "Epoch 009/015 | Loss 0.0010 | Win/lose count 7.0/3.0 (4.0)\n",
            "Epoch 010/015 | Loss 0.0030 | Win/lose count 9.5/7.0 (2.5)\n",
            "Epoch 011/015 | Loss 0.0004 | Win/lose count 1.0/0 (1.0)\n",
            "Epoch 012/015 | Loss 0.0026 | Win/lose count 5.5/2.0 (3.5)\n",
            "Epoch 013/015 | Loss 0.0035 | Win/lose count 8.0/4.0 (4.0)\n",
            "Epoch 014/015 | Loss 0.0030 | Win/lose count 13.5/0 (13.5)\n",
            "Win/lose count 15.5/3.0. Average score (12.5)\n",
            "Win/lose count 7.5/2.0. Average score (9.0)\n",
            "Win/lose count 4.5/2.0. Average score (6.833333333333333)\n",
            "Win/lose count 12.5/1.0. Average score (8.0)\n",
            "Win/lose count 2.0/0. Average score (6.8)\n",
            "Win/lose count 7.5/2.0. Average score (6.583333333333333)\n",
            "Win/lose count 8.5/1.0. Average score (6.714285714285714)\n",
            "Win/lose count 6.5/2.0. Average score (6.4375)\n",
            "Win/lose count 8.0/2.0. Average score (6.388888888888889)\n",
            "Win/lose count 12.5/1.0. Average score (6.9)\n",
            "Final score: 6.9\n"
          ],
          "name": "stdout"
        },
        {
          "output_type": "execute_result",
          "data": {
            "text/html": [
              "<video alt=\"test\" controls>\n",
              "                <source src=\"data:video/mp4;base64,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\" type=\"video/mp4\" />\n",
              "             </video>"
            ],
            "text/plain": [
              "<IPython.core.display.HTML object>"
            ]
          },
          "metadata": {
            "tags": []
          },
          "execution_count": 14
        }
      ]
    },
    {
      "cell_type": "markdown",
      "metadata": {
        "id": "fGWFw0W8Lpoj",
        "colab_type": "text"
      },
      "source": [
        "***\n",
        "***\n",
        "__Question 9__ Test both algorithms and compare their performances. Which issue(s) do you observe? Observe also different behaviors by changing the temperature."
      ]
    },
    {
      "cell_type": "code",
      "metadata": {
        "id": "VvuthgL9Lpom",
        "colab_type": "code",
        "colab": {
          "base_uri": "https://localhost:8080/",
          "height": 461
        },
        "outputId": "890c914b-b029-48be-d7c9-1deb9b383516"
      },
      "source": [
        "env = Environment(grid_size=size, max_time=T,temperature=0.3)\n",
        "'''\n",
        "agent_cnn = DQN_CNN(size, lr=.1, epsilon = 0.1, memory_size=2000, batch_size = 32)\n",
        "agent_cnn.load(name_weights='cnn_trainmodel.h5',name_model='cnn_trainmodel.json')\n",
        "\n",
        "agent_fc = DQN_FC(size, lr=.1, epsilon = 0.1, memory_size=2000, batch_size = 32)\n",
        "agent_cnn.load(name_weights='fc_trainmodel.h5',name_model='fc_trainmodel.json')\n",
        "'''\n",
        "print('Test of the CNN')\n",
        "test(agent_cnn,env,epochs_test,prefix='cnn_test')\n",
        "print('Test of the FC')\n",
        "test(agent_fc,env,epochs_test,prefix='fc_test')"
      ],
      "execution_count": 15,
      "outputs": [
        {
          "output_type": "stream",
          "text": [
            "Test of the CNN\n",
            "Win/lose count 14.5/2.0. Average score (12.5)\n",
            "Win/lose count 6.0/1.0. Average score (8.75)\n",
            "Win/lose count 12.5/1.0. Average score (9.666666666666666)\n",
            "Win/lose count 11.5/5.0. Average score (8.875)\n",
            "Win/lose count 4.5/1.0. Average score (7.8)\n",
            "Win/lose count 2.5/1.0. Average score (6.75)\n",
            "Win/lose count 11.0/2.0. Average score (7.071428571428571)\n",
            "Win/lose count 9.0/3.0. Average score (6.9375)\n",
            "Win/lose count 8.0/3.0. Average score (6.722222222222222)\n",
            "Win/lose count 13.5/1.0. Average score (7.3)\n",
            "Final score: 7.3\n",
            "Test of the FC\n",
            "Win/lose count 4.5/3.0. Average score (1.5)\n",
            "Win/lose count 7.0/3.0. Average score (2.75)\n",
            "Win/lose count 3.5/1.0. Average score (2.6666666666666665)\n",
            "Win/lose count 5.5/3.0. Average score (2.625)\n",
            "Win/lose count 10.0/3.0. Average score (3.5)\n",
            "Win/lose count 11.5/1.0. Average score (4.666666666666667)\n",
            "Win/lose count 8.0/2.0. Average score (4.857142857142857)\n",
            "Win/lose count 11.0/1.0. Average score (5.5)\n",
            "Win/lose count 5.5/3.0. Average score (5.166666666666667)\n",
            "Win/lose count 10.5/4.0. Average score (5.3)\n",
            "Final score: 5.3\n"
          ],
          "name": "stdout"
        }
      ]
    },
    {
      "cell_type": "code",
      "metadata": {
        "id": "Hv5kTTn-Lpow",
        "colab_type": "code",
        "colab": {
          "base_uri": "https://localhost:8080/",
          "height": 293
        },
        "outputId": "a00e3bbf-139c-4498-ae15-1b42fd5b6d21"
      },
      "source": [
        "HTML(display_videos('cnn_test9.mp4'))"
      ],
      "execution_count": 16,
      "outputs": [
        {
          "output_type": "execute_result",
          "data": {
            "text/html": [
              "<video alt=\"test\" controls>\n",
              "                <source src=\"data:video/mp4;base64,AAAAIGZ0eXBpc29tAAACAGlzb21pc28yYXZjMW1wNDEAAAAIZnJlZQAAFtJtZGF0AAACrQYF//+p3EXpvebZSLeWLNgg2SPu73gyNjQgLSBjb3JlIDE1MiByMjg1NCBlOWE1OTAzIC0gSC4yNjQvTVBFRy00IEFWQyBjb2RlYyAtIENvcHlsZWZ0IDIwMDMtMjAxNyAtIGh0dHA6Ly93d3cudmlkZW9sYW4ub3JnL3gyNjQuaHRtbCAtIG9wdGlvbnM6IGNhYmFjPTEgcmVmPTMgZGVibG9jaz0xOjA6MCBhbmFseXNlPTB4MToweDExMSBtZT1oZXggc3VibWU9NyBwc3k9MSBwc3lfcmQ9MS4wMDowLjAwIG1peGVkX3JlZj0xIG1lX3JhbmdlPTE2IGNocm9tYV9tZT0xIHRyZWxsaXM9MSA4eDhkY3Q9MCBjcW09MCBkZWFkem9uZT0yMSwxMSBmYXN0X3Bza2lwPTEgY2hyb21hX3FwX29mZnNldD00IHRocmVhZHM9MyBsb29rYWhlYWRfdGhyZWFkcz0xIHNsaWNlZF90aHJlYWRzPTAgbnI9MCBkZWNpbWF0ZT0xIGludGVybGFjZWQ9MCBibHVyYXlfY29tcGF0PTAgY29uc3RyYWluZWRfaW50cmE9MCBiZnJhbWVzPTMgYl9weXJhbWlkPTIgYl9hZGFwdD0xIGJfYmlhcz0wIGRpcmVjdD0xIHdlaWdodGI9MSBvcGVuX2dvcD0wIHdlaWdodHA9MiBrZXlpbnQ9MjUwIGtleWludF9taW49MjUgc2NlbmVjdXQ9NDAgaW50cmFfcmVmcmVzaD0wIHJjX2xvb2thaGVhZD00MCByYz1jcmYgbWJ0cmVlPTEgY3JmPTIzLjAgcWNvbXA9MC42MCBxcG1pbj0wIHFwbWF4PTY5IHFwc3RlcD00IGlwX3JhdGlvPTEuNDAgYXE9MToxLjAwAIAAAAKZZYiEADP//vaG+BTYUyP+T7/8I/+5H7cfWfrixkIJvrVeQ9GAMl8a/5lGYaXpyc8t7R+vTNAEZz8ZS8pY/so8NDo5eDvCToUeL8ClwFO/AppMjVoKg9EqvlwSw8HoeSFFnHfmvXDlCI8nRvvKbrZKlGdKhrS4pKxrjbDFuHlyrGsZajVN0R8ZdkVCM6wAoNls9hRvtLeUVeCTXMUHxoAap06IcTdvi+MZH5XAkECNNPKqhOxDvqAr0985y0IVC5kfOXO4fyPwSZjU0Zei/eTjO8vYL8E+SoVr1zRKNg+xFROCKK3q+csPBGZFmJUrHahOCtSI/5sTMV6HN7OO8A0X4mSSeZMjVU8R9N4aAUAbIVLUQ5A8sEi/Xyvh1XaWqw8H2DoJ2/sET+QlDtjQK3mZ5kMmmBUCy+O4OFfDfCOgkk2V37wftrpTuDF+EmRV8qQosn3By210vwaEHS+OrELXVbnEL72JtoOCgGXqRQ0KKFSDpaUWHarS29LNfsDQoAChu9F1fC4FWWGdh38zt/gAFRdFXxhiRZhOhKFYvrzoRWoM4J/jlaKg3z+pPnDgdC8prDk1NDom+LkzhvQGBuSbU4ai20sMlNLhywdEQ1vdCrhIMgA3PV8uEMtMuf32IuXWSzUM7H8kKW4A4trF+HT5jwSLu2OotnOZJu1B+ZQ+3JhRPtlb2NZkovpfNO3Iz0nKi7KmpwMpNMZhHbTyC5V5nE/Fdv1Pw42ZNrXCN6ytaH1wnlHI8JYFKYmTYJB4wQbp7Q4otHeEe6eNPW+coFs5hpjl1FFPKeYo3aBDqPhRAB3AMYHCa9URZzpHjm3HTVHwMPlhBw6w7UUDuyJde5td8SXbccF2RhyZFaVceWUCQ7A3APUL3cxAAZEAAAAUQZohbEN//qeEADN8NZtf/4iq3oAAAAAXQZpCPCGTKYQ3//6nhAAzvsHr2Z8EWFMAAAAYQZplSeEPJlMCG//+p4QAMn7B69mfBFhbAAAAD0Geg0URPCv/ACjtbhslQQAAAA0BnqRqQr8AKPykW9krAAAAHEGaqEmoQWiZTAhv//6nhABLUAWbbZ9nzFbc7ykAAAASQZ7GRREsK/8APMzvrH4L86zBAAAADgGe52pCvwA8zPFs/Uy+AAAAGUGa6UmoQWyZTAhv//6nhABLvjpj/D6tt00AAAAZQZsKSeEKUmUwId/+qZYAOOmQk3Dgo+aZUQAAABlBmy1J4Q6JlMCHf/6plgBZPkGaAPSX1/vQAAAAD0GfS0URPCv/AI7K4EmbQAAAAA4Bn2xqQr8AjSpHfet82wAAABNBm3FJqEFomUwId//+qZYAAJWBAAAADEGfj0URLC//AACygQAAABABn650Qr8A3NlXdX47v3pgAAAAEAGfsGpCvwDcpWxersOR40AAAAASQZu1SahBbJlMCG///qeEAAEnAAAADEGf00UVLC//AACygAAAABABn/J0Qr8A3NlXdX47v3pgAAAAEAGf9GpCvwDcpWxersOR40EAAAASQZv5SahBbJlMCGf//p4QAAR8AAAADEGeF0UVLC//AACygQAAABABnjZ0Qr8A3NlXdX47v3phAAAAEAGeOGpCvwDcpWxersOR40AAAAAbQZo6SahBbJlMCGf//p4QBBDhHP4c+IHD/CGfAAAAF0GaW0nhClJlMCG//qeEARQfMcrhttlnAAAAGEGafEnhDomUwIb//qeEARwfMeRif5bZXwAAABlBmp1J4Q8mUwId//6plgCUFHOk0Q3g8hQ9AAAAH0Gav0nhDyZTBRE8O//+qZYBI6WYtMzt6vtUvm1sl4AAAAAQAZ7eakK/AX91TyYHr2zZgAAAABZBmsNJ4Q8mUwId//6plgE376vsAHTBAAAADkGe4UURPC//AR6gAq2gAAAAEAGfAHRCvwGJeTdHbfCo7oEAAAAQAZ8CakK/AnXaHP6vDjeVgAAAABNBmwdJqEFomUwId//+qZYAAJWBAAAADEGfJUURLC//AACygQAAABABn0R0Qr8CdtKxejQON5WBAAAAEAGfRmpCvwJ12hz+rw43lYEAAAATQZtLSahBbJlMCHf//qmWAACVgAAAAAxBn2lFFSwv/wAAsoAAAAAQAZ+IdEK/AnbSsXo0DjeVgQAAABABn4pqQr8Cddoc/q8ON5WAAAAAE0Gbj0moQWyZTAh3//6plgAAlYAAAAAMQZ+tRRUsL/8AALKBAAAAEAGfzHRCvwJ20rF6NA43lYEAAAAQAZ/OakK/AnXaHP6vDjeVgQAAABNBm9NJqEFsmUwId//+qZYAAJWAAAAADEGf8UUVLC//AACygAAAABABnhB0Qr8CdtKxejQON5WBAAAAEAGeEmpCvwJ12hz+rw43lYAAAAATQZoXSahBbJlMCHf//qmWAACVgAAAAAxBnjVFFSwv/wAAsoEAAAAQAZ5UdEK/AnbSsXo0DjeVgAAAABABnlZqQr8Cddoc/q8ON5WBAAAAE0GaW0moQWyZTAh3//6plgAAlYEAAAAMQZ55RRUsL/8AALKAAAAAEAGemHRCvwJ20rF6NA43lYEAAAAQAZ6aakK/AnXaHP6vDjeVgAAAABJBmp9JqEFsmUwIb//+p4QAAScAAAAMQZ69RRUsL/8AALKBAAAAEAGe3HRCvwJ20rF6NA43lYAAAAAQAZ7eakK/AnXaHP6vDjeVgAAAABxBmsNJqEFsmUwIb//+p4QLQ/A8GbVP3on5JT5hAAAAEEGe4UUVLC//AeqdB/zXmpAAAAAPAZ8AdEK/AYl5N55xaM+BAAAADwGfAmpCvwKRYjyYDfcl0wAAABlBmwZJqEFsmUwIZ//+nhApO1H0+xH1T4y5AAAAEUGfJEUVLCv/Aq80bzTPyKIPAAAADgGfRWpCvwKuUY7/VIg5AAAAGUGbR0moQWyZTAhn//6eEAkndN84Zj6uU6cAAAAYQZtoSeEKUmUwIZ/+nhAEt+IedboGSGUMAAAAGEGbiUnhDomUwIb//qeEAS346Y/w+rbZTQAAABhBm6tJ4Q8mUwURPDf//qeEAL78afxMd0EAAAAPAZ/KakK/AO1YEuV/fuzAAAAAGEGbzEnhDyZTAhv//qeEASX46Y/w+rbZVQAAABpBm+9J4Q8mUwIZ//6eEAfHoL91HQB7oFoFywAAABJBng1FETwr/wFswdd3f0isbUEAAAAOAZ4uakK/AWxt13HgY2sAAAAZQZowSahBaJlMCG///qeEARX46Y/w+rbZZwAAABpBmlFJ4QpSZTAhv/6nhAEN+l08+P8Pq22XEAAAAB1BmnRJ4Q6JlMCG//6nhAYm+B4s1rH7x077fNZDZwAAABJBnpJFETwr/wIe7ZzvQ6OWES8AAAAPAZ6zakK/Ah7qnkwKnrs3AAAAGkGauEmoQWiZTAhn//6eEBbOJ32B/AXP64cXAAAAFUGe1kURLC//AZVAV6f0zjCLa9jfSAAAABABnvV0Qr8CMvJvK2DgtouBAAAADwGe92pCvwFjbbpRpDxJvwAAABlBmvlJqEFsmUwIZ//+nhAEF+c2dboGSGXEAAAAGEGbGknhClJlMCGf/p4QA/fr7+RIj6whqQAAABhBmztJ4Q6JlMCG//6nhACs+6nH+H1bbSMAAAAYQZtcSeEPJlMCG//+p4QAqHupx/h9W20rAAAAGUGbfUnhDyZTAhv//qeEAKP8afuZFCQ4UkEAAAAeQZuBSeEPJlMCG//+p4QAaf2D+fB87FxVbMUJEj1MAAAAEUGfv0URPC//AD4faFXNLWFAAAAAEAGf3nRCvwBWU1oyS3+t90EAAAAPAZ/AakK/ADdAsaJXPLttAAAAHUGbxEmoQWiZTAhn//6eEAD++vv02vUU4+qF+pS9AAAAEkGf4kURLCv/ADYEdudZPbMTkwAAABABngNqQr8ANMTJNN9JByLxAAAAGkGaBUmoQWyZTAhv//6nhAArXup+o40JDk3BAAAAGUGaJknhClJlMCG//qeEABu/YP8JwW6E58EAAAAYQZpISeEOiZTBTRMN//6nhAARb46fbEWBAAAADwGeZ2pCvwAOWobsM9Wf2wAAABJBmmpJ4Q8mUwU8N//+p4QAAScAAAAPAZ6JakK/AA5ahuwz1Z/bAAAAEkGajEnhDyZTBTw3//6nhAABJwAAAA8BnqtqQr8ADlqG7DPVn9sAAAASQZquSeEPJlMFPDf//qeEAAEnAAAADwGezWpCvwAOWobsM9Wf2wAAABhBms9J4Q8mUwIb//6nhAAR746Y/w+rbt8AAAAZQZrwSeEPJlMCHf/+qZYADZVIM0AekvsS0AAAAB1BmxRJ4Q8mUwId//6plgAUnSzlBmgU+jH14PcAcwAAABFBnzJFETwv/wAYhV43nJhboQAAAA8Bn1F0Qr8AFijCAyS5w4AAAAAQAZ9TakK/ACGvNEyJpWc3QAAAABNBm1hJqEFomUwId//+qZYAAJWBAAAAE0GfdkURLC//ACax86ZxXU9iZ+wAAAAPAZ+VdEK/ADTSWbg2S8d5AAAADwGfl2pCvwA0xLSpFAlV8wAAABpBm5tJqEFsmUwId//+qZYAFS0srjNL+2BTQAAAABJBn7lFFSwr/wAhuxXsLBfmUYEAAAAPAZ/aakK/ACG7PLcNm1QjAAAAE0Gb30moQWyZTAh3//6plgAAlYEAAAATQZ/9RRUsL/8AJ8mzkzbhwS5pzQAAAA8Bnhx0Qr8ANhJZuDZLx3EAAAAQAZ4eakK/ADYEdudaGF5iQAAAABNBmgNJqEFsmUwId//+qZYAAJWBAAAAE0GeIUUVLC//ABkols1Myy5DRUYAAAAQAZ5AdEK/ACGurRklv9dXgQAAAA8BnkJqQr8AIbs8tw2bVCMAAAATQZpHSahBbJlMCHf//qmWAACVgQAAABBBnmVFFSwv/wAZKJbN+j+3AAAAEAGehHRCvwAhrq0ZJb/XV4EAAAAPAZ6GakK/ACG7PLcNm1QjAAAAE0Gai0moQWyZTAh3//6plgAAlYAAAAAQQZ6pRRUsL/8AGSiWzfo/tgAAABABnsh0Qr8AIa6tGSW/11eBAAAADwGeympCvwAhuzy3DZtUIwAAABpBms1JqEFsmUwUTDv//qmWABVPfV96KAZIqQAAABABnuxqQr8AIbJ851oYXo+BAAAAGEGa8UnhClJlMCHf/qmWABUwnR/vtL7oqQAAABBBnw9FNEwv/wAZJV3f5v2xAAAADwGfLnRCvwAVmMYuA/MD4AAAAA8BnzBqQr8AIbs8tw2bVCMAAAATQZs1SahBaJlMCHf//qmWAACVgQAAABBBn1NFESwv/wAZKJbN+j+2AAAAEAGfcnRCvwAhrq0ZJb/XV4AAAAAPAZ90akK/ACG7PLcNm1QjAAAAE0GbeUmoQWyZTAh3//6plgAAlYAAAAAQQZ+XRRUsL/8AGSiWzfo/twAAABABn7Z0Qr8AIa6tGSW/11eBAAAADwGfuGpCvwAhuzy3DZtUIwAAABNBm71JqEFsmUwId//+qZYAAJWBAAAAEEGf20UVLC//ABkols36P7YAAAAQAZ/6dEK/ACGurRklv9dXgQAAAA8Bn/xqQr8AIbs8tw2bVCMAAAATQZvhSahBbJlMCHf//qmWAACVgAAAABBBnh9FFSwv/wAZKJbN+j+2AAAADwGePnRCvwAhrsoUm2SriwAAAA8BniBqQr8AIbs8tw2bVCMAAAATQZolSahBbJlMCHf//qmWAACVgQAAABBBnkNFFSwv/wAZKJbN+j+2AAAAEAGeYnRCvwAhrq0ZJb/XV4EAAAAPAZ5kakK/ACG7PLcNm1QjAAAAE0GaaUmoQWyZTAh3//6plgAAlYEAAAAQQZ6HRRUsL/8AGSiWzfo/twAAABABnqZ0Qr8AIa6tGSW/11eAAAAADwGeqGpCvwAhuzy3DZtUIwAAABNBmq1JqEFsmUwId//+qZYAAJWBAAAAEEGey0UVLC//ABkols36P7YAAAAQAZ7qdEK/ACGurRklv9dXgAAAAA8BnuxqQr8AIbs8tw2bVCMAAAATQZrxSahBbJlMCHf//qmWAACVgQAAABBBnw9FFSwv/wAZKJbN+j+3AAAAEAGfLnRCvwAhrq0ZJb/XV4AAAAAPAZ8wakK/ACG7PLcNm1QjAAAAE0GbNUmoQWyZTAh3//6plgAAlYEAAAAQQZ9TRRUsL/8AGSiWzfo/tgAAABABn3J0Qr8AIa6tGSW/11eAAAAADwGfdGpCvwAhuzy3DZtUIwAAABNBm3lJqEFsmUwId//+qZYAAJWAAAAAEEGfl0UVLC//ABkols36P7cAAAAQAZ+2dEK/ACGurRklv9dXgQAAAA8Bn7hqQr8AIbs8tw2bVCMAAAATQZu9SahBbJlMCHf//qmWAACVgQAAABBBn9tFFSwv/wAZKJbN+j+2AAAAEAGf+nRCvwAhrq0ZJb/XV4EAAAAPAZ/8akK/ACG7PLcNm1QjAAAAEkGb4UmoQWyZTAhv//6nhAABJwAAABBBnh9FFSwv/wAZKJbN+j+2AAAAEAGePnRCvwAhrq0ZJb/XV4EAAAAPAZ4gakK/ACG7PLcNm1QjAAAAEkGaJUmoQWyZTAhn//6eEAAEfQAAABBBnkNFFSwv/wAZKJbN+j+2AAAAEAGeYnRCvwAhrq0ZJb/XV4EAAAAPAZ5kakK/ACG7PLcNm1QjAAAAGkGaaUuoQhBbJEYIKAfyAf2HgCFf/jhAABFxAAAAJUGeh0UVLC//AgHc6kvbMwq5gOgatahcCUAZaKfXbMLt3UOM/VsAAAAQAZ6mdEK/ACGurRklv9dXgAAAACQBnqhqQr8Cr2PtQcTdqsNJJuWqhgcstbvNK+WP5WQA7NxARmAAAAvQbW9vdgAAAGxtdmhkAAAAAAAAAAAAAAAAAAAD6AAAH5AAAQAAAQAAAAAAAAAAAAAAAAEAAAAAAAAAAAAAAAAAAAABAAAAAAAAAAAAAAAAAABAAAAAAAAAAAAAAAAAAAAAAAAAAAAAAAAAAAAAAAAAAgAACvp0cmFrAAAAXHRraGQAAAADAAAAAAAAAAAAAAABAAAAAAAAH5AAAAAAAAAAAAAAAAAAAAAAAAEAAAAAAAAAAAAAAAAAAAABAAAAAAAAAAAAAAAAAABAAAAAARAAAAEQAAAAAAAkZWR0cwAAABxlbHN0AAAAAAAAAAEAAB+QAAAEAAABAAAAAApybWRpYQAAACBtZGhkAAAAAAAAAAAAAAAAAAAyAAABlABVxAAAAAAALWhkbHIAAAAAAAAAAHZpZGUAAAAAAAAAAAAAAABWaWRlb0hhbmRsZXIAAAAKHW1pbmYAAAAUdm1oZAAAAAEAAAAAAAAAAAAAACRkaW5mAAAAHGRyZWYAAAAAAAAAAQAAAAx1cmwgAAAAAQAACd1zdGJsAAAAlXN0c2QAAAAAAAAAAQAAAIVhdmMxAAAAAAAAAAEAAAAAAAAAAAAAAAAAAAAAARABEABIAAAASAAAAAAAAAABAAAAAAAAAAAAAAAAAAAAAAAAAAAAAAAAAAAAAAAAAAAAGP//AAAAL2F2Y0MB9AAN/+EAF2f0AA2RmygiEdCAAAADAIAAABkHihTLAQAFaOvjxEgAAAAYc3R0cwAAAAAAAAABAAAAygAAAgAAAAAUc3RzcwAAAAAAAAABAAAAAQAABahjdHRzAAAAAAAAALMAAAADAAAEAAAAAAEAAAgAAAAAAgAAAgAAAAABAAAIAAAAAAIAAAIAAAAAAgAABAAAAAABAAAIAAAAAAIAAAIAAAAAAQAACgAAAAABAAAEAAAAAAEAAAAAAAAAAQAAAgAAAAABAAAKAAAAAAEAAAQAAAAAAQAAAAAAAAABAAACAAAAAAEAAAoAAAAAAQAABAAAAAABAAAAAAAAAAEAAAIAAAAABAAABAAAAAABAAAGAAAAAAEAAAIAAAAAAQAACgAAAAABAAAEAAAAAAEAAAAAAAAAAQAAAgAAAAABAAAKAAAAAAEAAAQAAAAAAQAAAAAAAAABAAACAAAAAAEAAAoAAAAAAQAABAAAAAABAAAAAAAAAAEAAAIAAAAAAQAACgAAAAABAAAEAAAAAAEAAAAAAAAAAQAAAgAAAAABAAAKAAAAAAEAAAQAAAAAAQAAAAAAAAABAAACAAAAAAEAAAoAAAAAAQAABAAAAAABAAAAAAAAAAEAAAIAAAAAAQAACgAAAAABAAAEAAAAAAEAAAAAAAAAAQAAAgAAAAABAAAKAAAAAAEAAAQAAAAAAQAAAAAAAAABAAACAAAAAAEAAAoAAAAAAQAABAAAAAABAAAAAAAAAAEAAAIAAAAAAQAACAAAAAACAAACAAAAAAMAAAQAAAAAAQAABgAAAAABAAACAAAAAAEAAAQAAAAAAQAACAAAAAACAAACAAAAAAIAAAQAAAAAAQAACAAAAAACAAACAAAAAAEAAAoAAAAAAQAABAAAAAABAAAAAAAAAAEAAAIAAAAABQAABAAAAAABAAAKAAAAAAEAAAQAAAAAAQAAAAAAAAABAAACAAAAAAEAAAgAAAAAAgAAAgAAAAACAAAEAAAAAAEAAAYAAAAAAQAAAgAAAAABAAAGAAAAAAEAAAIAAAAAAQAABgAAAAABAAACAAAAAAEAAAYAAAAAAQAAAgAAAAACAAAEAAAAAAEAAAoAAAAAAQAABAAAAAABAAAAAAAAAAEAAAIAAAAAAQAACgAAAAABAAAEAAAAAAEAAAAAAAAAAQAAAgAAAAABAAAIAAAAAAIAAAIAAAAAAQAACgAAAAABAAAEAAAAAAEAAAAAAAAAAQAAAgAAAAABAAAKAAAAAAEAAAQAAAAAAQAAAAAAAAABAAACAAAAAAEAAAoAAAAAAQAABAAAAAABAAAAAAAAAAEAAAIAAAAAAQAACgAAAAABAAAEAAAAAAEAAAAAAAAAAQAAAgAAAAABAAAGAAAAAAEAAAIAAAAAAQAACgAAAAABAAAEAAAAAAEAAAAAAAAAAQAAAgAAAAABAAAKAAAAAAEAAAQAAAAAAQAAAAAAAAABAAACAAAAAAEAAAoAAAAAAQAABAAAAAABAAAAAAAAAAEAAAIAAAAAAQAACgAAAAABAAAEAAAAAAEAAAAAAAAAAQAAAgAAAAABAAAKAAAAAAEAAAQAAAAAAQAAAAAAAAABAAACAAAAAAEAAAoAAAAAAQAABAAAAAABAAAAAAAAAAEAAAIAAAAAAQAACgAAAAABAAAEAAAAAAEAAAAAAAAAAQAAAgAAAAABAAAKAAAAAAEAAAQAAAAAAQAAAAAAAAABAAACAAAAAAEAAAoAAAAAAQAABAAAAAABAAAAAAAAAAEAAAIAAAAAAQAACgAAAAABAAAEAAAAAAEAAAAAAAAAAQAAAgAAAAABAAAKAAAAAAEAAAQAAAAAAQAAAAAAAAABAAACAAAAAAEAAAoAAAAAAQAABAAAAAABAAAAAAAAAAEAAAIAAAAAAQAACgAAAAABAAAEAAAAAAEAAAAAAAAAAQAAAgAAAAABAAAKAAAAAAEAAAQAAAAAAQAAAAAAAAABAAACAAAAAAEAAAoAAAAAAQAABAAAAAABAAAAAAAAAAEAAAIAAAAAHHN0c2MAAAAAAAAAAQAAAAEAAADKAAAAAQAAAzxzdHN6AAAAAAAAAAAAAADKAAAFTgAAABgAAAAbAAAAHAAAABMAAAARAAAAIAAAABYAAAASAAAAHQAAAB0AAAAdAAAAEwAAABIAAAAXAAAAEAAAABQAAAAUAAAAFgAAABAAAAAUAAAAFAAAABYAAAAQAAAAFAAAABQAAAAfAAAAGwAAABwAAAAdAAAAIwAAABQAAAAaAAAAEgAAABQAAAAUAAAAFwAAABAAAAAUAAAAFAAAABcAAAAQAAAAFAAAABQAAAAXAAAAEAAAABQAAAAUAAAAFwAAABAAAAAUAAAAFAAAABcAAAAQAAAAFAAAABQAAAAXAAAAEAAAABQAAAAUAAAAFgAAABAAAAAUAAAAFAAAACAAAAAUAAAAEwAAABMAAAAdAAAAFQAAABIAAAAdAAAAHAAAABwAAAAcAAAAEwAAABwAAAAeAAAAFgAAABIAAAAdAAAAHgAAACEAAAAWAAAAEwAAAB4AAAAZAAAAFAAAABMAAAAdAAAAHAAAABwAAAAcAAAAHQAAACIAAAAVAAAAFAAAABMAAAAhAAAAFgAAABQAAAAeAAAAHQAAABwAAAATAAAAFgAAABMAAAAWAAAAEwAAABYAAAATAAAAHAAAAB0AAAAhAAAAFQAAABMAAAAUAAAAFwAAABcAAAATAAAAEwAAAB4AAAAWAAAAEwAAABcAAAAXAAAAEwAAABQAAAAXAAAAFwAAABQAAAATAAAAFwAAABQAAAAUAAAAEwAAABcAAAAUAAAAFAAAABMAAAAeAAAAFAAAABwAAAAUAAAAEwAAABMAAAAXAAAAFAAAABQAAAATAAAAFwAAABQAAAAUAAAAEwAAABcAAAAUAAAAFAAAABMAAAAXAAAAFAAAABMAAAATAAAAFwAAABQAAAAUAAAAEwAAABcAAAAUAAAAFAAAABMAAAAXAAAAFAAAABQAAAATAAAAFwAAABQAAAAUAAAAEwAAABcAAAAUAAAAFAAAABMAAAAXAAAAFAAAABQAAAATAAAAFwAAABQAAAAUAAAAEwAAABYAAAAUAAAAFAAAABMAAAAWAAAAFAAAABQAAAATAAAAHgAAACkAAAAUAAAAKAAAABRzdGNvAAAAAAAAAAEAAAAwAAAAYnVkdGEAAABabWV0YQAAAAAAAAAhaGRscgAAAAAAAAAAbWRpcmFwcGwAAAAAAAAAAAAAAAAtaWxzdAAAACWpdG9vAAAAHWRhdGEAAAABAAAAAExhdmY1Ny44My4xMDA=\" type=\"video/mp4\" />\n",
              "             </video>"
            ],
            "text/plain": [
              "<IPython.core.display.HTML object>"
            ]
          },
          "metadata": {
            "tags": []
          },
          "execution_count": 16
        }
      ]
    },
    {
      "cell_type": "code",
      "metadata": {
        "id": "xV4hpoMpLpo3",
        "colab_type": "code",
        "colab": {
          "base_uri": "https://localhost:8080/",
          "height": 293
        },
        "outputId": "936129de-b724-4e1f-b388-3c15d7a7585b"
      },
      "source": [
        "HTML(display_videos('fc_test9.mp4'))"
      ],
      "execution_count": 17,
      "outputs": [
        {
          "output_type": "execute_result",
          "data": {
            "text/html": [
              "<video alt=\"test\" controls>\n",
              "                <source src=\"data:video/mp4;base64,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\" type=\"video/mp4\" />\n",
              "             </video>"
            ],
            "text/plain": [
              "<IPython.core.display.HTML object>"
            ]
          },
          "metadata": {
            "tags": []
          },
          "execution_count": 17
        }
      ]
    },
    {
      "cell_type": "markdown",
      "metadata": {
        "id": "j3Pc-A7vLpo_",
        "colab_type": "text"
      },
      "source": [
        "It seems that the agent does not explore a lot as it does not want to get bad rewards. It may stay in the same area of the map to limit its 'loss', it bad rewards.\n",
        "We should add a dynamic exploration feature for this agent in order to let him get good rewards on the whole map whie still avoiding negative rewards.\n"
      ]
    },
    {
      "cell_type": "markdown",
      "metadata": {
        "id": "QxyUNKiqLppB",
        "colab_type": "text"
      },
      "source": [
        "***\n",
        "\n",
        "The algorithm tends to not explore the map which can be an issue. We propose two ideas in order to encourage exploration:\n",
        "1. Incorporating a decreasing $\\epsilon$-greedy exploration. You can use the method ```set_epsilon```\n",
        "2. Append via the environment a new state that describes if a cell has been visited or not\n",
        "\n",
        "***\n",
        "__Question 10__ Design a new ```train_explore``` function and environment class ```EnvironmentExploring``` to tackle the issue of exploration.\n",
        "\n"
      ]
    },
    {
      "cell_type": "code",
      "metadata": {
        "id": "ineWKHViLppE",
        "colab_type": "code",
        "colab": {}
      },
      "source": [
        "def train_explore(agent,env,epoch,prefix=''):\n",
        "    # Number of won games\n",
        "    score = 0\n",
        "    loss = 0\n",
        "    for e in range(epoch):\n",
        "        # At each epoch, we restart to a fresh game and get the initial state\n",
        "        state = env.reset()\n",
        "        # This assumes that the games will terminate\n",
        "        game_over = False\n",
        "        win = 0\n",
        "        lose = 0\n",
        "        while not game_over:\n",
        "            # The agent performs an action\n",
        "            action = agent.act(state)\n",
        "            # Apply an action to the environment, get the next state, the reward\n",
        "            # and if the games end\n",
        "            prev_state = state\n",
        "            state, reward, game_over = env.act(action, train=True)\n",
        "            # Update the counters\n",
        "            if reward > 0:\n",
        "                win = win + reward\n",
        "            if reward < 0:\n",
        "                lose = lose -reward\n",
        "            # Apply the reinforcement strategy\n",
        "            loss = agent.reinforce(prev_state, state,  action, reward, game_over)\n",
        "        # Save as a mp4\n",
        "        env.draw(prefix+str(e))\n",
        "        # Update stats\n",
        "        score += win-lose\n",
        "        print(\"Epoch {:03d}/{:03d} | Loss {:.4f} | Win/lose count {}/{} ({})\"\n",
        "              .format(e, epoch, loss, win, lose, win-lose))\n",
        "        #agent.save(name_weights=prefix+'model.h5',name_model=prefix+'model.json')\n",
        "        \n",
        "class EnvironmentExploring(object):\n",
        "    def __init__(self, grid_size=10, max_time=500, temperature=0.1):\n",
        "        grid_size = grid_size+4\n",
        "        self.grid_size = grid_size\n",
        "        self.max_time = max_time\n",
        "        self.temperature = temperature\n",
        "        #board on which one plays\n",
        "        self.board = np.zeros((grid_size,grid_size))\n",
        "        self.position = np.zeros((grid_size,grid_size))\n",
        "        self.malus_position = np.zeros((grid_size,grid_size))\n",
        "        # coordinate of the cat\n",
        "        self.x = 0\n",
        "        self.y = 1\n",
        "        # self time\n",
        "        self.t = 0\n",
        "        self.scale=16\n",
        "        self.to_draw = np.zeros((max_time+2, grid_size*self.scale, grid_size*self.scale, 3))\n",
        "\n",
        "    def draw(self,e):\n",
        "        skvideo.io.vwrite(str(e) + '.mp4', self.to_draw)\n",
        "\n",
        "    def get_frame(self,t):\n",
        "        b = np.zeros((self.grid_size,self.grid_size,3))+128\n",
        "        b[self.board>0,0] = 256\n",
        "        b[self.board < 0, 2] = 256\n",
        "        b[self.x,self.y,:]=256\n",
        "        b[-2:,:,:]=0\n",
        "        b[:,-2:,:]=0\n",
        "        b[:2,:,:]=0\n",
        "        b[:,:2,:]=0\n",
        "        b =  cv2.resize(b, None, fx=self.scale, fy=self.scale, interpolation=cv2.INTER_NEAREST)\n",
        "        self.to_draw[t,:,:,:]=b\n",
        "\n",
        "    def act(self, action, train=False):\n",
        "        \"\"\"This function returns the new state, reward and decides if the\n",
        "        game ends.\"\"\"\n",
        "        self.get_frame(int(self.t))\n",
        "        self.position = np.zeros((self.grid_size, self.grid_size))\n",
        "\n",
        "        self.position[0:2,:]= -1\n",
        "        self.position[:,0:2] = -1\n",
        "        self.position[-2:, :] = -1\n",
        "        self.position[-2:, :] = -1\n",
        "\n",
        "        self.position[self.x, self.y] = 1\n",
        "        if action == 0:\n",
        "            if self.x == self.grid_size-3:\n",
        "                self.x = self.x-1\n",
        "            else:\n",
        "                self.x = self.x + 1\n",
        "        elif action == 1:\n",
        "            if self.x == 2:\n",
        "                self.x = self.x+1\n",
        "            else:\n",
        "                self.x = self.x-1\n",
        "        elif action == 2:\n",
        "            if self.y == self.grid_size - 3:\n",
        "                self.y = self.y - 1\n",
        "            else:\n",
        "                self.y = self.y + 1\n",
        "        elif action == 3:\n",
        "            if self.y == 2:\n",
        "                self.y = self.y + 1\n",
        "            else:\n",
        "                self.y = self.y - 1\n",
        "        else:\n",
        "            RuntimeError('Error: action not recognized')\n",
        "\n",
        "        self.t = self.t + 1\n",
        "        reward=0\n",
        "        if train:\n",
        "            reward = -self.malus_position[self.x, self.y]\n",
        "        self.malus_position[self.x, self.y] = 0.1\n",
        "        reward = reward + self.board[self.x, self.y]\n",
        "        self.board[self.x, self.y] = 0\n",
        "        game_over = self.t > self.max_time\n",
        "        #############################################################################\n",
        "        state = np.concatenate((self.malus_position.reshape(self.grid_size, self.grid_size,1),\n",
        "                                self.board.reshape(self.grid_size, self.grid_size,1),\n",
        "                        self.position.reshape(self.grid_size, self.grid_size,1)),axis=2)\n",
        "        ###############################################################################\n",
        "        state = state[self.x-2:self.x+3,self.y-2:self.y+3,:]\n",
        "        return state, reward, game_over\n",
        "\n",
        "    def reset(self):\n",
        "        \"\"\"This function resets the game and returns the initial state\"\"\"\n",
        "        self.x = np.random.randint(3, self.grid_size-3, size=1)[0]\n",
        "        self.y = np.random.randint(3, self.grid_size-3, size=1)[0]\n",
        "\n",
        "        bonus = 0.5*np.random.binomial(1,self.temperature,size=self.grid_size**2)\n",
        "        bonus = bonus.reshape(self.grid_size,self.grid_size)\n",
        "\n",
        "        malus = -1.0*np.random.binomial(1,self.temperature,size=self.grid_size**2)\n",
        "        malus = malus.reshape(self.grid_size, self.grid_size)\n",
        "\n",
        "        self.to_draw = np.zeros((self.max_time+2, self.grid_size*self.scale, self.grid_size*self.scale, 3))\n",
        "        malus[bonus>0]=0\n",
        "        self.board = bonus + malus\n",
        "        self.position = np.zeros((self.grid_size, self.grid_size))\n",
        "        self.position[0:2,:]= -1\n",
        "        self.position[:,0:2] = -1\n",
        "        self.position[-2:, :] = -1\n",
        "        self.position[-2:, :] = -1\n",
        "        self.board[self.x,self.y] = 0\n",
        "        self.t = 0\n",
        "        state = np.concatenate((self.malus_position.reshape(self.grid_size, self.grid_size,1),\n",
        "                                self.board.reshape(self.grid_size, self.grid_size,1),\n",
        "                        self.position.reshape(self.grid_size, self.grid_size,1)),axis=2)\n",
        "        state = state[self.x - 2:self.x + 3, self.y - 2:self.y + 3, :]\n",
        "        return state\n"
      ],
      "execution_count": 0,
      "outputs": []
    },
    {
      "cell_type": "code",
      "metadata": {
        "id": "q89L8GWzLppW",
        "colab_type": "code",
        "colab": {
          "base_uri": "https://localhost:8080/",
          "height": 1000
        },
        "outputId": "ac5eb51c-7225-425f-e608-ae82360008d1"
      },
      "source": [
        "# Training\n",
        "env = EnvironmentExploring(grid_size=size, max_time=T, temperature=0.3)\n",
        "agent = DQN_CNN(size, lr=.001, epsilon = 0.1, memory_size=2000, batch_size = 32, n_state=3)\n",
        "train_explore(agent, env, 50, prefix='cnn_train_explore')\n",
        "HTML(display_videos('cnn_train_explore49.mp4'))"
      ],
      "execution_count": 19,
      "outputs": [
        {
          "output_type": "stream",
          "text": [
            "Epoch 000/050 | Loss 0.0024 | Win/lose count 2.0/20.70000000000003 (-18.70000000000003)\n",
            "Epoch 001/050 | Loss 0.0043 | Win/lose count 3.4/26.900000000000112 (-23.500000000000114)\n",
            "Epoch 002/050 | Loss 0.0043 | Win/lose count 5.5/20.600000000000026 (-15.100000000000026)\n",
            "Epoch 003/050 | Loss 0.0037 | Win/lose count 1.7999999999999998/23.40000000000006 (-21.60000000000006)\n",
            "Epoch 004/050 | Loss 0.0034 | Win/lose count 3.5/22.60000000000006 (-19.10000000000006)\n",
            "Epoch 005/050 | Loss 0.0017 | Win/lose count 2.5/20.900000000000034 (-18.400000000000034)\n",
            "Epoch 006/050 | Loss 0.0028 | Win/lose count 3.5/19.900000000000016 (-16.400000000000016)\n",
            "Epoch 007/050 | Loss 0.0026 | Win/lose count 8.000000000000002/20.70000000000003 (-12.70000000000003)\n",
            "Epoch 008/050 | Loss 0.0018 | Win/lose count 3.0/21.100000000000033 (-18.100000000000033)\n",
            "Epoch 009/050 | Loss 0.0018 | Win/lose count 7.000000000000002/17.999999999999986 (-10.999999999999984)\n",
            "Epoch 010/050 | Loss 0.0017 | Win/lose count 9.700000000000001/21.300000000000043 (-11.600000000000042)\n",
            "Epoch 011/050 | Loss 0.0017 | Win/lose count 8.800000000000002/18.7 (-9.899999999999997)\n",
            "Epoch 012/050 | Loss 0.0013 | Win/lose count 3.3/22.000000000000046 (-18.700000000000045)\n",
            "Epoch 013/050 | Loss 0.0019 | Win/lose count 9.300000000000004/22.70000000000005 (-13.400000000000045)\n",
            "Epoch 014/050 | Loss 0.0059 | Win/lose count 3.1999999999999997/21.200000000000035 (-18.000000000000036)\n",
            "Epoch 015/050 | Loss 0.0014 | Win/lose count 6.900000000000002/23.200000000000053 (-16.30000000000005)\n",
            "Epoch 016/050 | Loss 0.0039 | Win/lose count 9.000000000000004/19.700000000000017 (-10.700000000000014)\n",
            "Epoch 017/050 | Loss 0.0011 | Win/lose count 2.4/23.500000000000043 (-21.100000000000044)\n",
            "Epoch 018/050 | Loss 0.0014 | Win/lose count 8.000000000000002/19.000000000000004 (-11.000000000000002)\n",
            "Epoch 019/050 | Loss 0.0027 | Win/lose count 11.200000000000005/21.300000000000047 (-10.100000000000042)\n",
            "Epoch 020/050 | Loss 0.0022 | Win/lose count 10.800000000000004/19.40000000000001 (-8.600000000000005)\n",
            "Epoch 021/050 | Loss 0.0057 | Win/lose count 18.3/18.600000000000005 (-0.30000000000000426)\n",
            "Epoch 022/050 | Loss 0.0015 | Win/lose count 16.800000000000004/15.89999999999996 (0.9000000000000448)\n",
            "Epoch 023/050 | Loss 0.0035 | Win/lose count 4.8/21.90000000000003 (-17.10000000000003)\n",
            "Epoch 024/050 | Loss 0.0035 | Win/lose count 17.200000000000003/17.799999999999986 (-0.5999999999999837)\n",
            "Epoch 025/050 | Loss 0.0038 | Win/lose count 16.400000000000006/19.00000000000001 (-2.600000000000005)\n",
            "Epoch 026/050 | Loss 0.0081 | Win/lose count 10.400000000000004/17.49999999999998 (-7.099999999999975)\n",
            "Epoch 027/050 | Loss 0.0034 | Win/lose count 19.599999999999994/17.199999999999978 (2.4000000000000163)\n",
            "Epoch 028/050 | Loss 0.0037 | Win/lose count 4.8/19.900000000000016 (-15.100000000000016)\n",
            "Epoch 029/050 | Loss 0.0056 | Win/lose count 11.600000000000005/19.19999999999999 (-7.599999999999984)\n",
            "Epoch 030/050 | Loss 0.0025 | Win/lose count 15.600000000000009/20.20000000000001 (-4.600000000000001)\n",
            "Epoch 031/050 | Loss 0.0034 | Win/lose count 8.000000000000002/21.100000000000023 (-13.100000000000021)\n",
            "Epoch 032/050 | Loss 0.0058 | Win/lose count 11.200000000000005/22.30000000000006 (-11.100000000000056)\n",
            "Epoch 033/050 | Loss 0.0044 | Win/lose count 7.600000000000002/20.20000000000002 (-12.60000000000002)\n",
            "Epoch 034/050 | Loss 0.0059 | Win/lose count 4.8/20.90000000000003 (-16.10000000000003)\n",
            "Epoch 035/050 | Loss 0.0035 | Win/lose count 15.600000000000009/18.199999999999992 (-2.5999999999999837)\n",
            "Epoch 036/050 | Loss 0.0045 | Win/lose count 4.8/20.90000000000003 (-16.10000000000003)\n",
            "Epoch 037/050 | Loss 0.0023 | Win/lose count 14.400000000000007/18.5 (-4.0999999999999925)\n",
            "Epoch 038/050 | Loss 0.0037 | Win/lose count 13.200000000000006/19.80000000000002 (-6.600000000000012)\n",
            "Epoch 039/050 | Loss 0.0033 | Win/lose count 3.1999999999999997/19.300000000000004 (-16.100000000000005)\n",
            "Epoch 040/050 | Loss 0.0041 | Win/lose count 10.400000000000004/21.50000000000003 (-11.100000000000025)\n",
            "Epoch 041/050 | Loss 0.0027 | Win/lose count 10.000000000000004/18.599999999999998 (-8.599999999999994)\n",
            "Epoch 042/050 | Loss 0.0047 | Win/lose count 14.800000000000008/19.400000000000016 (-4.6000000000000085)\n",
            "Epoch 043/050 | Loss 0.0038 | Win/lose count 3.1999999999999997/21.300000000000036 (-18.100000000000037)\n",
            "Epoch 044/050 | Loss 0.0034 | Win/lose count 17.200000000000003/17.79999999999999 (-0.5999999999999872)\n",
            "Epoch 045/050 | Loss 0.0022 | Win/lose count 10.800000000000004/20.400000000000027 (-9.600000000000023)\n",
            "Epoch 046/050 | Loss 0.0034 | Win/lose count 15.200000000000008/17.299999999999976 (-2.0999999999999677)\n",
            "Epoch 047/050 | Loss 0.0028 | Win/lose count 14.000000000000007/17.599999999999984 (-3.5999999999999766)\n",
            "Epoch 048/050 | Loss 0.0034 | Win/lose count 12.000000000000005/19.100000000000005 (-7.1)\n",
            "Epoch 049/050 | Loss 0.0037 | Win/lose count 8.800000000000002/22.900000000000016 (-14.100000000000014)\n"
          ],
          "name": "stdout"
        },
        {
          "output_type": "execute_result",
          "data": {
            "text/html": [
              "<video alt=\"test\" controls>\n",
              "                <source src=\"data:video/mp4;base64,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\" type=\"video/mp4\" />\n",
              "             </video>"
            ],
            "text/plain": [
              "<IPython.core.display.HTML object>"
            ]
          },
          "metadata": {
            "tags": []
          },
          "execution_count": 19
        }
      ]
    },
    {
      "cell_type": "code",
      "metadata": {
        "id": "52_FhpLKLppj",
        "colab_type": "code",
        "colab": {
          "base_uri": "https://localhost:8080/",
          "height": 497
        },
        "outputId": "1e52370b-345c-475b-bbc5-ec10d8d7df2a"
      },
      "source": [
        "# Evaluation\n",
        "test(agent,env,epochs_test,prefix='cnn_test_explore')\n",
        "HTML(display_videos('cnn_test_explore9.mp4'))"
      ],
      "execution_count": 20,
      "outputs": [
        {
          "output_type": "stream",
          "text": [
            "Win/lose count 15.5/2.0. Average score (13.5)\n",
            "Win/lose count 12.5/2.0. Average score (12.0)\n",
            "Win/lose count 11.5/0. Average score (11.833333333333334)\n",
            "Win/lose count 12.0/1.0. Average score (11.625)\n",
            "Win/lose count 14.5/0. Average score (12.2)\n",
            "Win/lose count 5.0/1.0. Average score (10.833333333333334)\n",
            "Win/lose count 4.5/0. Average score (9.928571428571429)\n",
            "Win/lose count 7.5/2.0. Average score (9.375)\n",
            "Win/lose count 7.0/1.0. Average score (9.0)\n",
            "Win/lose count 17.5/1.0. Average score (9.75)\n",
            "Final score: 9.75\n"
          ],
          "name": "stdout"
        },
        {
          "output_type": "execute_result",
          "data": {
            "text/html": [
              "<video alt=\"test\" controls>\n",
              "                <source src=\"data:video/mp4;base64,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\" type=\"video/mp4\" />\n",
              "             </video>"
            ],
            "text/plain": [
              "<IPython.core.display.HTML object>"
            ]
          },
          "metadata": {
            "tags": []
          },
          "execution_count": 20
        }
      ]
    },
    {
      "cell_type": "markdown",
      "metadata": {
        "id": "WmBsgElqLpp2",
        "colab_type": "text"
      },
      "source": [
        "***\n",
        "***\n",
        "__BONUS question__ Use the expert DQN from the previous question to generate some winning games. Train a model that mimicks its behavior. Compare the performances."
      ]
    },
    {
      "cell_type": "markdown",
      "metadata": {
        "id": "gdH-IctSLpp3",
        "colab_type": "text"
      },
      "source": [
        ""
      ]
    },
    {
      "cell_type": "markdown",
      "metadata": {
        "id": "l0pcSGTYLpp5",
        "colab_type": "text"
      },
      "source": [
        "***"
      ]
    }
  ]
}